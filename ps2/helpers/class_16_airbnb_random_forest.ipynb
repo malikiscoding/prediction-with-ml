{
 "cells": [
  {
   "cell_type": "markdown",
   "metadata": {
    "tags": []
   },
   "source": [
    "#### Prepared for Gabor's Data Analysis\n",
    "\n",
    "### Data Analysis for Business, Economics, and Policy\n",
    "by Gabor Bekes and Gabor Kezdi\n",
    " \n",
    "Cambridge University Press 2021\n",
    "\n",
    "**[gabors-data-analysis.com ](https://gabors-data-analysis.com/)**\n",
    "\n",
    " License: Free to share, modify and use for educational purposes. \n",
    " Not to be used for commercial purposes.\n",
    "\n",
    "### Chapter 16\n",
    "\n",
    "**CH16A Predicting apartment prices with random forest and gradient boosintg machines**\n",
    "\n",
    "using the airbnb dataset\n",
    "\n",
    "version 1.1 2023-02-01"
   ]
  },
  {
   "cell_type": "code",
   "execution_count": 1,
   "metadata": {},
   "outputs": [],
   "source": [
    "import pandas as pd\n",
    "import numpy as np\n",
    "import os\n",
    "from pathlib import Path\n",
    "import sys\n",
    "from patsy import dmatrices\n",
    "from sklearn.model_selection import train_test_split\n",
    "# from mizani.formatters import percent_format\n",
    "# from plotnine import *\n",
    "import matplotlib.pyplot as plt\n",
    "\n",
    "from sklearn.ensemble import RandomForestRegressor\n",
    "from sklearn.model_selection import GridSearchCV\n",
    "from sklearn.model_selection import RandomizedSearchCV\n",
    "from sklearn.impute import SimpleImputer\n",
    "from sklearn.inspection import permutation_importance\n",
    "from sklearn.inspection import plot_partial_dependence\n",
    "from sklearn.inspection import partial_dependence\n",
    "from sklearn.compose import ColumnTransformer\n",
    "from sklearn.pipeline import Pipeline\n",
    "from sklearn.preprocessing import OneHotEncoder\n",
    "from sklearn.metrics import mean_squared_error"
   ]
  },
  {
   "cell_type": "markdown",
   "metadata": {},
   "source": [
    "## PART I\n",
    "### Loading and preparing data \n",
    "----------------------------------------------"
   ]
  },
  {
   "cell_type": "code",
   "execution_count": 2,
   "metadata": {},
   "outputs": [],
   "source": [
    "url = 'https://raw.githubusercontent.com/peterduronelly/DA3-Coding-Examples/main/data/airbnb_london_workfile_adj_book.csv'\n",
    "data = pd.read_csv(url)"
   ]
  },
  {
   "cell_type": "code",
   "execution_count": 3,
   "metadata": {},
   "outputs": [
    {
     "data": {
      "text/plain": [
       "(51646, 92)"
      ]
     },
     "execution_count": 3,
     "metadata": {},
     "output_type": "execute_result"
    }
   ],
   "source": [
    "data.shape"
   ]
  },
  {
   "cell_type": "code",
   "execution_count": 4,
   "metadata": {},
   "outputs": [
    {
     "name": "stdout",
     "output_type": "stream",
     "text": [
      "<class 'pandas.core.frame.DataFrame'>\n",
      "RangeIndex: 51646 entries, 0 to 51645\n",
      "Data columns (total 92 columns):\n",
      " #   Column                     Non-Null Count  Dtype  \n",
      "---  ------                     --------------  -----  \n",
      " 0   f_property_type            51646 non-null  object \n",
      " 1   f_room_type                51646 non-null  object \n",
      " 2   f_room_type2               51646 non-null  object \n",
      " 3   f_cancellation_policy      51646 non-null  object \n",
      " 4   f_bed_type                 51646 non-null  object \n",
      " 5   f_neighbourhood_cleansed   51646 non-null  object \n",
      " 6   usd_price_day              51646 non-null  int64  \n",
      " 7   n_accommodates             51646 non-null  int64  \n",
      " 8   n_bathrooms                51646 non-null  float64\n",
      " 9   n_review_scores_rating     51646 non-null  int64  \n",
      " 10  n_number_of_reviews        51646 non-null  int64  \n",
      " 11  n_guests_included          51646 non-null  int64  \n",
      " 12  n_reviews_per_month        51646 non-null  float64\n",
      " 13  n_extra_people             51646 non-null  int64  \n",
      " 14  n_minimum_nights           51646 non-null  int64  \n",
      " 15  n_beds                     51646 non-null  int64  \n",
      " 16  n_days_since               51646 non-null  int64  \n",
      " 17  d_24hourcheckin            51646 non-null  int64  \n",
      " 18  d_airconditioning          51646 non-null  int64  \n",
      " 19  d_breakfast                51646 non-null  int64  \n",
      " 20  d_buzzerwirelessintercom   51646 non-null  int64  \n",
      " 21  d_cabletv                  51646 non-null  int64  \n",
      " 22  d_carbonmonoxidedetector   51646 non-null  int64  \n",
      " 23  d_cats                     51646 non-null  int64  \n",
      " 24  d_dogs                     51646 non-null  int64  \n",
      " 25  d_doorman                  51646 non-null  int64  \n",
      " 26  d_doormanentry             51646 non-null  int64  \n",
      " 27  d_dryer                    51646 non-null  int64  \n",
      " 28  d_elevatorinbuilding       51646 non-null  int64  \n",
      " 29  d_essentials               51646 non-null  int64  \n",
      " 30  d_familykidfriendly        51646 non-null  int64  \n",
      " 31  d_fireextinguisher         51646 non-null  int64  \n",
      " 32  d_firstaidkit              51646 non-null  int64  \n",
      " 33  d_freeparkingonpremises    51646 non-null  int64  \n",
      " 34  d_freeparkingonstreet      51646 non-null  int64  \n",
      " 35  d_gym                      51646 non-null  int64  \n",
      " 36  d_hairdryer                51646 non-null  int64  \n",
      " 37  d_hangers                  51646 non-null  int64  \n",
      " 38  d_heating                  51646 non-null  int64  \n",
      " 39  d_hottub                   51646 non-null  int64  \n",
      " 40  d_indoorfireplace          51646 non-null  int64  \n",
      " 41  d_internet                 51646 non-null  int64  \n",
      " 42  d_iron                     51646 non-null  int64  \n",
      " 43  d_keypad                   51646 non-null  int64  \n",
      " 44  d_kitchen                  51646 non-null  int64  \n",
      " 45  d_laptopfriendlyworkspace  51646 non-null  int64  \n",
      " 46  d_lockonbedroomdoor        51646 non-null  int64  \n",
      " 47  d_lockbox                  51646 non-null  int64  \n",
      " 48  d_otherpets                51646 non-null  int64  \n",
      " 49  d_paidparkingoffpremises   51646 non-null  int64  \n",
      " 50  d_petsallowed              51646 non-null  int64  \n",
      " 51  d_petsliveonthisproperty   51646 non-null  int64  \n",
      " 52  d_pool                     51646 non-null  int64  \n",
      " 53  d_privateentrance          51646 non-null  int64  \n",
      " 54  d_privatelivingroom        51646 non-null  int64  \n",
      " 55  d_safetycard               51646 non-null  int64  \n",
      " 56  d_selfcheckin              51646 non-null  int64  \n",
      " 57  d_shampoo                  51646 non-null  int64  \n",
      " 58  d_smartlock                51646 non-null  int64  \n",
      " 59  d_smokedetector            51646 non-null  int64  \n",
      " 60  d_smokingallowed           51646 non-null  int64  \n",
      " 61  d_suitableforevents        51646 non-null  int64  \n",
      " 62  d_tv                       51646 non-null  int64  \n",
      " 63  d_washer                   51646 non-null  int64  \n",
      " 64  d_washerdryer              51646 non-null  int64  \n",
      " 65  d_wheelchairaccessible     51646 non-null  int64  \n",
      " 66  d_wirelessinternet         51646 non-null  int64  \n",
      " 67  price                      51646 non-null  int64  \n",
      " 68  id                         51646 non-null  int64  \n",
      " 69  neighbourhood_cleansed     51646 non-null  object \n",
      " 70  cancellation_policy        51646 non-null  object \n",
      " 71  room_type                  51646 non-null  object \n",
      " 72  property_type              51646 non-null  object \n",
      " 73  ln_price                   51646 non-null  float64\n",
      " 74  n_accommodates2            51646 non-null  int64  \n",
      " 75  ln_accommodates            51646 non-null  float64\n",
      " 76  ln_accommodates2           51646 non-null  float64\n",
      " 77  ln_beds                    51646 non-null  float64\n",
      " 78  ln_number_of_reviews       51646 non-null  float64\n",
      " 79  f_bathroom                 51646 non-null  int64  \n",
      " 80  f_number_of_reviews        51646 non-null  int64  \n",
      " 81  f_minimum_nights           51646 non-null  int64  \n",
      " 82  flag_days_since            51646 non-null  int64  \n",
      " 83  flag_review_scores_rating  51646 non-null  int64  \n",
      " 84  flag_reviews_per_month     51646 non-null  int64  \n",
      " 85  flag_n_number_of_reviews   51646 non-null  int64  \n",
      " 86  ln_days_since              51646 non-null  float64\n",
      " 87  ln_days_since2             51646 non-null  float64\n",
      " 88  ln_days_since3             51646 non-null  float64\n",
      " 89  n_days_since2              51646 non-null  int64  \n",
      " 90  n_days_since3              51646 non-null  int64  \n",
      " 91  ln_review_scores_rating    51646 non-null  float64\n",
      "dtypes: float64(11), int64(71), object(10)\n",
      "memory usage: 36.3+ MB\n"
     ]
    }
   ],
   "source": [
    "data.info()"
   ]
  },
  {
   "cell_type": "code",
   "execution_count": 5,
   "metadata": {},
   "outputs": [
    {
     "data": {
      "text/plain": [
       "0"
      ]
     },
     "execution_count": 5,
     "metadata": {},
     "output_type": "execute_result"
    }
   ],
   "source": [
    "data.isna().sum().sum()"
   ]
  },
  {
   "attachments": {},
   "cell_type": "markdown",
   "metadata": {},
   "source": [
    "#### EDA, sample definition and preparation"
   ]
  },
  {
   "cell_type": "code",
   "execution_count": 6,
   "metadata": {},
   "outputs": [],
   "source": [
    "# We focus on normal apartments, n<8\n",
    "data = data[data.n_accommodates < 8]"
   ]
  },
  {
   "cell_type": "code",
   "execution_count": 7,
   "metadata": {},
   "outputs": [
    {
     "data": {
      "text/plain": [
       "(49826, 92)"
      ]
     },
     "execution_count": 7,
     "metadata": {},
     "output_type": "execute_result"
    }
   ],
   "source": [
    "data.shape"
   ]
  },
  {
   "cell_type": "code",
   "execution_count": 8,
   "metadata": {},
   "outputs": [],
   "source": [
    "# copy a variable - purpose later, see at variable importance\n",
    "data['n_accommodates_copy'] = data['n_accommodates']"
   ]
  },
  {
   "cell_type": "markdown",
   "metadata": {},
   "source": [
    "***numerical variables***"
   ]
  },
  {
   "cell_type": "code",
   "execution_count": 9,
   "metadata": {},
   "outputs": [
    {
     "data": {
      "text/html": [
       "<div>\n",
       "<style scoped>\n",
       "    .dataframe tbody tr th:only-of-type {\n",
       "        vertical-align: middle;\n",
       "    }\n",
       "\n",
       "    .dataframe tbody tr th {\n",
       "        vertical-align: top;\n",
       "    }\n",
       "\n",
       "    .dataframe thead th {\n",
       "        text-align: right;\n",
       "    }\n",
       "</style>\n",
       "<table border=\"1\" class=\"dataframe\">\n",
       "  <thead>\n",
       "    <tr style=\"text-align: right;\">\n",
       "      <th></th>\n",
       "      <th>count</th>\n",
       "      <th>mean</th>\n",
       "      <th>std</th>\n",
       "      <th>min</th>\n",
       "      <th>25%</th>\n",
       "      <th>50%</th>\n",
       "      <th>75%</th>\n",
       "      <th>max</th>\n",
       "    </tr>\n",
       "  </thead>\n",
       "  <tbody>\n",
       "    <tr>\n",
       "      <th>usd_price_day</th>\n",
       "      <td>49826.0</td>\n",
       "      <td>8.898404e+01</td>\n",
       "      <td>7.051509e+01</td>\n",
       "      <td>8.000000</td>\n",
       "      <td>4.100000e+01</td>\n",
       "      <td>7.000000e+01</td>\n",
       "      <td>1.100000e+02</td>\n",
       "      <td>9.990000e+02</td>\n",
       "    </tr>\n",
       "    <tr>\n",
       "      <th>n_accommodates</th>\n",
       "      <td>49826.0</td>\n",
       "      <td>2.838759e+00</td>\n",
       "      <td>1.494748e+00</td>\n",
       "      <td>1.000000</td>\n",
       "      <td>2.000000e+00</td>\n",
       "      <td>2.000000e+00</td>\n",
       "      <td>4.000000e+00</td>\n",
       "      <td>7.000000e+00</td>\n",
       "    </tr>\n",
       "    <tr>\n",
       "      <th>n_bathrooms</th>\n",
       "      <td>49826.0</td>\n",
       "      <td>1.224260e+00</td>\n",
       "      <td>4.664481e-01</td>\n",
       "      <td>0.000000</td>\n",
       "      <td>1.000000e+00</td>\n",
       "      <td>1.000000e+00</td>\n",
       "      <td>1.000000e+00</td>\n",
       "      <td>8.000000e+00</td>\n",
       "    </tr>\n",
       "    <tr>\n",
       "      <th>n_review_scores_rating</th>\n",
       "      <td>49826.0</td>\n",
       "      <td>9.245862e+01</td>\n",
       "      <td>8.418474e+00</td>\n",
       "      <td>20.000000</td>\n",
       "      <td>9.200000e+01</td>\n",
       "      <td>9.400000e+01</td>\n",
       "      <td>9.700000e+01</td>\n",
       "      <td>1.000000e+02</td>\n",
       "    </tr>\n",
       "    <tr>\n",
       "      <th>n_number_of_reviews</th>\n",
       "      <td>49826.0</td>\n",
       "      <td>1.234014e+01</td>\n",
       "      <td>2.588993e+01</td>\n",
       "      <td>0.000000</td>\n",
       "      <td>0.000000e+00</td>\n",
       "      <td>3.000000e+00</td>\n",
       "      <td>1.200000e+01</td>\n",
       "      <td>3.960000e+02</td>\n",
       "    </tr>\n",
       "    <tr>\n",
       "      <th>...</th>\n",
       "      <td>...</td>\n",
       "      <td>...</td>\n",
       "      <td>...</td>\n",
       "      <td>...</td>\n",
       "      <td>...</td>\n",
       "      <td>...</td>\n",
       "      <td>...</td>\n",
       "      <td>...</td>\n",
       "    </tr>\n",
       "    <tr>\n",
       "      <th>ln_days_since3</th>\n",
       "      <td>49826.0</td>\n",
       "      <td>1.996072e+02</td>\n",
       "      <td>8.026405e+01</td>\n",
       "      <td>0.000000</td>\n",
       "      <td>1.604325e+02</td>\n",
       "      <td>1.944078e+02</td>\n",
       "      <td>2.411713e+02</td>\n",
       "      <td>4.948179e+02</td>\n",
       "    </tr>\n",
       "    <tr>\n",
       "      <th>n_days_since2</th>\n",
       "      <td>49826.0</td>\n",
       "      <td>2.931985e+05</td>\n",
       "      <td>5.640361e+05</td>\n",
       "      <td>0.000000</td>\n",
       "      <td>5.198400e+04</td>\n",
       "      <td>1.069290e+05</td>\n",
       "      <td>2.540160e+05</td>\n",
       "      <td>7.409284e+06</td>\n",
       "    </tr>\n",
       "    <tr>\n",
       "      <th>n_days_since3</th>\n",
       "      <td>49826.0</td>\n",
       "      <td>3.046539e+08</td>\n",
       "      <td>9.636140e+08</td>\n",
       "      <td>0.000000</td>\n",
       "      <td>1.185235e+07</td>\n",
       "      <td>3.496578e+07</td>\n",
       "      <td>1.280241e+08</td>\n",
       "      <td>2.016807e+10</td>\n",
       "    </tr>\n",
       "    <tr>\n",
       "      <th>ln_review_scores_rating</th>\n",
       "      <td>49826.0</td>\n",
       "      <td>4.520910e+00</td>\n",
       "      <td>1.204214e-01</td>\n",
       "      <td>2.995732</td>\n",
       "      <td>4.521789e+00</td>\n",
       "      <td>4.543295e+00</td>\n",
       "      <td>4.574711e+00</td>\n",
       "      <td>4.605170e+00</td>\n",
       "    </tr>\n",
       "    <tr>\n",
       "      <th>n_accommodates_copy</th>\n",
       "      <td>49826.0</td>\n",
       "      <td>2.838759e+00</td>\n",
       "      <td>1.494748e+00</td>\n",
       "      <td>1.000000</td>\n",
       "      <td>2.000000e+00</td>\n",
       "      <td>2.000000e+00</td>\n",
       "      <td>4.000000e+00</td>\n",
       "      <td>7.000000e+00</td>\n",
       "    </tr>\n",
       "  </tbody>\n",
       "</table>\n",
       "<p>83 rows × 8 columns</p>\n",
       "</div>"
      ],
      "text/plain": [
       "                           count          mean           std        min  \\\n",
       "usd_price_day            49826.0  8.898404e+01  7.051509e+01   8.000000   \n",
       "n_accommodates           49826.0  2.838759e+00  1.494748e+00   1.000000   \n",
       "n_bathrooms              49826.0  1.224260e+00  4.664481e-01   0.000000   \n",
       "n_review_scores_rating   49826.0  9.245862e+01  8.418474e+00  20.000000   \n",
       "n_number_of_reviews      49826.0  1.234014e+01  2.588993e+01   0.000000   \n",
       "...                          ...           ...           ...        ...   \n",
       "ln_days_since3           49826.0  1.996072e+02  8.026405e+01   0.000000   \n",
       "n_days_since2            49826.0  2.931985e+05  5.640361e+05   0.000000   \n",
       "n_days_since3            49826.0  3.046539e+08  9.636140e+08   0.000000   \n",
       "ln_review_scores_rating  49826.0  4.520910e+00  1.204214e-01   2.995732   \n",
       "n_accommodates_copy      49826.0  2.838759e+00  1.494748e+00   1.000000   \n",
       "\n",
       "                                  25%           50%           75%  \\\n",
       "usd_price_day            4.100000e+01  7.000000e+01  1.100000e+02   \n",
       "n_accommodates           2.000000e+00  2.000000e+00  4.000000e+00   \n",
       "n_bathrooms              1.000000e+00  1.000000e+00  1.000000e+00   \n",
       "n_review_scores_rating   9.200000e+01  9.400000e+01  9.700000e+01   \n",
       "n_number_of_reviews      0.000000e+00  3.000000e+00  1.200000e+01   \n",
       "...                               ...           ...           ...   \n",
       "ln_days_since3           1.604325e+02  1.944078e+02  2.411713e+02   \n",
       "n_days_since2            5.198400e+04  1.069290e+05  2.540160e+05   \n",
       "n_days_since3            1.185235e+07  3.496578e+07  1.280241e+08   \n",
       "ln_review_scores_rating  4.521789e+00  4.543295e+00  4.574711e+00   \n",
       "n_accommodates_copy      2.000000e+00  2.000000e+00  4.000000e+00   \n",
       "\n",
       "                                  max  \n",
       "usd_price_day            9.990000e+02  \n",
       "n_accommodates           7.000000e+00  \n",
       "n_bathrooms              8.000000e+00  \n",
       "n_review_scores_rating   1.000000e+02  \n",
       "n_number_of_reviews      3.960000e+02  \n",
       "...                               ...  \n",
       "ln_days_since3           4.948179e+02  \n",
       "n_days_since2            7.409284e+06  \n",
       "n_days_since3            2.016807e+10  \n",
       "ln_review_scores_rating  4.605170e+00  \n",
       "n_accommodates_copy      7.000000e+00  \n",
       "\n",
       "[83 rows x 8 columns]"
      ]
     },
     "execution_count": 9,
     "metadata": {},
     "output_type": "execute_result"
    }
   ],
   "source": [
    "# too long to display and read\n",
    "data.describe().T"
   ]
  },
  {
   "cell_type": "code",
   "execution_count": 10,
   "metadata": {},
   "outputs": [
    {
     "data": {
      "text/plain": [
       "count    49,826.0\n",
       "mean         89.0\n",
       "std          70.5\n",
       "min           8.0\n",
       "1%           20.0\n",
       "10%          30.0\n",
       "25%          41.0\n",
       "50%          70.0\n",
       "75%         110.0\n",
       "90%         169.0\n",
       "99%         350.0\n",
       "max         999.0\n",
       "Name: price, dtype: object"
      ]
     },
     "execution_count": 10,
     "metadata": {},
     "output_type": "execute_result"
    }
   ],
   "source": [
    "data.price.describe(percentiles = [0.01, 0.1, 0.25, 0.5, 0.75, 0.9, 0.99]).map('{:,.1f}'.format)"
   ]
  },
  {
   "cell_type": "markdown",
   "metadata": {},
   "source": [
    "***categorical variables***"
   ]
  },
  {
   "cell_type": "code",
   "execution_count": 11,
   "metadata": {},
   "outputs": [
    {
     "data": {
      "text/plain": [
       "Entire home/apt    24938\n",
       "Private room       24351\n",
       "Shared room          537\n",
       "Name: f_room_type, dtype: int64"
      ]
     },
     "execution_count": 11,
     "metadata": {},
     "output_type": "execute_result"
    }
   ],
   "source": [
    "data.f_room_type.value_counts()"
   ]
  },
  {
   "cell_type": "code",
   "execution_count": 12,
   "metadata": {},
   "outputs": [
    {
     "data": {
      "text/plain": [
       "Apartment    37467\n",
       "House        12359\n",
       "Name: f_property_type, dtype: int64"
      ]
     },
     "execution_count": 12,
     "metadata": {},
     "output_type": "execute_result"
    }
   ],
   "source": [
    "data.f_property_type.value_counts()"
   ]
  },
  {
   "cell_type": "code",
   "execution_count": 13,
   "metadata": {},
   "outputs": [
    {
     "data": {
      "text/plain": [
       "2    31575\n",
       "1    15148\n",
       "3     3103\n",
       "Name: f_number_of_reviews, dtype: int64"
      ]
     },
     "execution_count": 13,
     "metadata": {},
     "output_type": "execute_result"
    }
   ],
   "source": [
    "data.f_number_of_reviews.value_counts()"
   ]
  },
  {
   "cell_type": "markdown",
   "metadata": {},
   "source": [
    "***split train and test***\n",
    "- train is where we do it all, incl CV\n",
    "\n",
    "- first pick a smaller than usual training set so that models run faster and check if works\n",
    "- if works, start anew without these two lines"
   ]
  },
  {
   "cell_type": "code",
   "execution_count": 14,
   "metadata": {},
   "outputs": [],
   "source": [
    "data_train, data_holdout = train_test_split( data, train_size=0.7, random_state=42)"
   ]
  },
  {
   "cell_type": "code",
   "execution_count": 15,
   "metadata": {},
   "outputs": [
    {
     "data": {
      "text/plain": [
       "((34878, 93), (14948, 93))"
      ]
     },
     "execution_count": 15,
     "metadata": {},
     "output_type": "execute_result"
    }
   ],
   "source": [
    "data_train.shape, data_holdout.shape"
   ]
  },
  {
   "cell_type": "code",
   "execution_count": 16,
   "metadata": {},
   "outputs": [],
   "source": [
    "# basic variables inc neighbourhood\n",
    "basic_vars = [\n",
    "    \"n_accommodates\",\n",
    "    \"n_beds\",\n",
    "    \"n_days_since\",\n",
    "    \"f_property_type\",\n",
    "    \"f_room_type\",\n",
    "    \"f_bathroom\",\n",
    "    \"f_cancellation_policy\",\n",
    "    \"f_bed_type\",\n",
    "    \"f_neighbourhood_cleansed\",\n",
    "]\n",
    "\n",
    "# reviews\n",
    "reviews = [\n",
    "    \"n_number_of_reviews\",\n",
    "    \"flag_n_number_of_reviews\",\n",
    "    \"n_review_scores_rating\",\n",
    "    \"flag_review_scores_rating\",\n",
    "]\n",
    "\n",
    "# dummy variables\n",
    "amenities = [col for col in data if col.startswith(\"d_\")]\n",
    "\n",
    "# interactions for the LASSO\n",
    "# from ch14\n",
    "X1 = [\n",
    "    \"n_accommodates:f_property_type\",\n",
    "    \"f_room_type:f_property_type\",\n",
    "    \"f_room_type:d_familykidfriendly\",\n",
    "    \"d_airconditioning:f_property_type\",\n",
    "    \"d_cats:f_property_type\",\n",
    "    \"d_dogs:f_property_type\",\n",
    "]\n",
    "# with boroughs\n",
    "X2 = [\n",
    "    \"f_property_type:f_neighbourhood_cleansed\",\n",
    "    \"f_room_type:f_neighbourhood_cleansed\",\n",
    "    \"n_accommodates:f_neighbourhood_cleansed\",\n",
    "]"
   ]
  },
  {
   "cell_type": "code",
   "execution_count": 17,
   "metadata": {},
   "outputs": [],
   "source": [
    "predictors_1 = basic_vars\n",
    "predictors_2 = basic_vars + reviews + amenities\n",
    "predictors_E = basic_vars + reviews + amenities + X1 + X2"
   ]
  },
  {
   "cell_type": "markdown",
   "metadata": {
    "tags": []
   },
   "source": [
    "## PART II\n",
    "### RANDOM FORESTS \n",
    "-------------------------------------------------------"
   ]
  },
  {
   "cell_type": "markdown",
   "metadata": {},
   "source": [
    "For data preparation we are using the [patsy](https://patsy.readthedocs.io/en/latest/overview.html) package (not [this](https://en.wikipedia.org/wiki/Patsy_%28Monty_Python%29) Patsy, bur almost). `patsy` is a Python package for describing statistical models (especially linear models, or models that have a linear component) and building design matrices. It is closely inspired by and compatible with the formula mini-language used in R and S."
   ]
  },
  {
   "cell_type": "code",
   "execution_count": 18,
   "metadata": {},
   "outputs": [],
   "source": [
    "y, X = dmatrices(\"price ~ \" + \" + \".join(predictors_2), data_train)"
   ]
  },
  {
   "cell_type": "markdown",
   "metadata": {},
   "source": [
    "`dmatrices()` constructs two design matrices given a formula_like and data. By convention, the first matrix is the “outcome” or “y” data, and the second is the “predictor” or “x” data."
   ]
  },
  {
   "cell_type": "markdown",
   "metadata": {},
   "source": [
    "What is X?"
   ]
  },
  {
   "cell_type": "code",
   "execution_count": 19,
   "metadata": {},
   "outputs": [
    {
     "data": {
      "text/plain": [
       "patsy.design_info.DesignMatrix"
      ]
     },
     "execution_count": 19,
     "metadata": {},
     "output_type": "execute_result"
    }
   ],
   "source": [
    "type(X)"
   ]
  },
  {
   "cell_type": "code",
   "execution_count": 20,
   "metadata": {},
   "outputs": [
    {
     "data": {
      "text/plain": [
       "DesignMatrix with shape (34878, 97)\n",
       "  Columns:\n",
       "    ['Intercept',\n",
       "     'f_property_type[T.House]',\n",
       "     'f_room_type[T.Private room]',\n",
       "     'f_room_type[T.Shared room]',\n",
       "     'f_cancellation_policy[T.moderate]',\n",
       "     'f_cancellation_policy[T.strict]',\n",
       "     'f_bed_type[T.Real Bed]',\n",
       "     'f_neighbourhood_cleansed[T.Barnet]',\n",
       "     'f_neighbourhood_cleansed[T.Bexley]',\n",
       "     'f_neighbourhood_cleansed[T.Brent]',\n",
       "     'f_neighbourhood_cleansed[T.Bromley]',\n",
       "     'f_neighbourhood_cleansed[T.Camden]',\n",
       "     'f_neighbourhood_cleansed[T.City of London]',\n",
       "     'f_neighbourhood_cleansed[T.Croydon]',\n",
       "     'f_neighbourhood_cleansed[T.Ealing]',\n",
       "     'f_neighbourhood_cleansed[T.Enfield]',\n",
       "     'f_neighbourhood_cleansed[T.Greenwich]',\n",
       "     'f_neighbourhood_cleansed[T.Hackney]',\n",
       "     'f_neighbourhood_cleansed[T.Hammersmith and Fulham]',\n",
       "     'f_neighbourhood_cleansed[T.Haringey]',\n",
       "     'f_neighbourhood_cleansed[T.Harrow]',\n",
       "     'f_neighbourhood_cleansed[T.Havering]',\n",
       "     'f_neighbourhood_cleansed[T.Hillingdon]',\n",
       "     'f_neighbourhood_cleansed[T.Hounslow]',\n",
       "     'f_neighbourhood_cleansed[T.Islington]',\n",
       "     'f_neighbourhood_cleansed[T.Kensington and Chelsea]',\n",
       "     'f_neighbourhood_cleansed[T.Kingston upon Thames]',\n",
       "     'f_neighbourhood_cleansed[T.Lambeth]',\n",
       "     'f_neighbourhood_cleansed[T.Lewisham]',\n",
       "     'f_neighbourhood_cleansed[T.Merton]',\n",
       "     'f_neighbourhood_cleansed[T.Newham]',\n",
       "     'f_neighbourhood_cleansed[T.Redbridge]',\n",
       "     'f_neighbourhood_cleansed[T.Richmond upon Thames]',\n",
       "     'f_neighbourhood_cleansed[T.Southwark]',\n",
       "     'f_neighbourhood_cleansed[T.Sutton]',\n",
       "     'f_neighbourhood_cleansed[T.Tower Hamlets]',\n",
       "     'f_neighbourhood_cleansed[T.Waltham Forest]',\n",
       "     'f_neighbourhood_cleansed[T.Wandsworth]',\n",
       "     'f_neighbourhood_cleansed[T.Westminster]',\n",
       "     'n_accommodates',\n",
       "     'n_beds',\n",
       "     'n_days_since',\n",
       "     'f_bathroom',\n",
       "     'n_number_of_reviews',\n",
       "     'flag_n_number_of_reviews',\n",
       "     'n_review_scores_rating',\n",
       "     'flag_review_scores_rating',\n",
       "     'd_24hourcheckin',\n",
       "     'd_airconditioning',\n",
       "     'd_breakfast',\n",
       "     'd_buzzerwirelessintercom',\n",
       "     'd_cabletv',\n",
       "     'd_carbonmonoxidedetector',\n",
       "     'd_cats',\n",
       "     'd_dogs',\n",
       "     'd_doorman',\n",
       "     'd_doormanentry',\n",
       "     'd_dryer',\n",
       "     'd_elevatorinbuilding',\n",
       "     'd_essentials',\n",
       "     'd_familykidfriendly',\n",
       "     'd_fireextinguisher',\n",
       "     'd_firstaidkit',\n",
       "     'd_freeparkingonpremises',\n",
       "     'd_freeparkingonstreet',\n",
       "     'd_gym',\n",
       "     'd_hairdryer',\n",
       "     'd_hangers',\n",
       "     'd_heating',\n",
       "     'd_hottub',\n",
       "     'd_indoorfireplace',\n",
       "     'd_internet',\n",
       "     'd_iron',\n",
       "     'd_keypad',\n",
       "     'd_kitchen',\n",
       "     'd_laptopfriendlyworkspace',\n",
       "     'd_lockonbedroomdoor',\n",
       "     'd_lockbox',\n",
       "     'd_otherpets',\n",
       "     'd_paidparkingoffpremises',\n",
       "     'd_petsallowed',\n",
       "     'd_petsliveonthisproperty',\n",
       "     'd_pool',\n",
       "     'd_privateentrance',\n",
       "     'd_privatelivingroom',\n",
       "     'd_safetycard',\n",
       "     'd_selfcheckin',\n",
       "     'd_shampoo',\n",
       "     'd_smartlock',\n",
       "     'd_smokedetector',\n",
       "     'd_smokingallowed',\n",
       "     'd_suitableforevents',\n",
       "     'd_tv',\n",
       "     'd_washer',\n",
       "     'd_washerdryer',\n",
       "     'd_wheelchairaccessible',\n",
       "     'd_wirelessinternet']\n",
       "  Terms:\n",
       "    'Intercept' (column 0)\n",
       "    'f_property_type' (column 1)\n",
       "    'f_room_type' (columns 2:4)\n",
       "    'f_cancellation_policy' (columns 4:6)\n",
       "    'f_bed_type' (column 6)\n",
       "    'f_neighbourhood_cleansed' (columns 7:39)\n",
       "    'n_accommodates' (column 39)\n",
       "    'n_beds' (column 40)\n",
       "    'n_days_since' (column 41)\n",
       "    'f_bathroom' (column 42)\n",
       "    'n_number_of_reviews' (column 43)\n",
       "    'flag_n_number_of_reviews' (column 44)\n",
       "    'n_review_scores_rating' (column 45)\n",
       "    'flag_review_scores_rating' (column 46)\n",
       "    'd_24hourcheckin' (column 47)\n",
       "    'd_airconditioning' (column 48)\n",
       "    'd_breakfast' (column 49)\n",
       "    'd_buzzerwirelessintercom' (column 50)\n",
       "    'd_cabletv' (column 51)\n",
       "    'd_carbonmonoxidedetector' (column 52)\n",
       "    'd_cats' (column 53)\n",
       "    'd_dogs' (column 54)\n",
       "    'd_doorman' (column 55)\n",
       "    'd_doormanentry' (column 56)\n",
       "    'd_dryer' (column 57)\n",
       "    'd_elevatorinbuilding' (column 58)\n",
       "    'd_essentials' (column 59)\n",
       "    'd_familykidfriendly' (column 60)\n",
       "    'd_fireextinguisher' (column 61)\n",
       "    'd_firstaidkit' (column 62)\n",
       "    'd_freeparkingonpremises' (column 63)\n",
       "    'd_freeparkingonstreet' (column 64)\n",
       "    'd_gym' (column 65)\n",
       "    'd_hairdryer' (column 66)\n",
       "    'd_hangers' (column 67)\n",
       "    'd_heating' (column 68)\n",
       "    'd_hottub' (column 69)\n",
       "    'd_indoorfireplace' (column 70)\n",
       "    'd_internet' (column 71)\n",
       "    'd_iron' (column 72)\n",
       "    'd_keypad' (column 73)\n",
       "    'd_kitchen' (column 74)\n",
       "    'd_laptopfriendlyworkspace' (column 75)\n",
       "    'd_lockonbedroomdoor' (column 76)\n",
       "    'd_lockbox' (column 77)\n",
       "    'd_otherpets' (column 78)\n",
       "    'd_paidparkingoffpremises' (column 79)\n",
       "    'd_petsallowed' (column 80)\n",
       "    'd_petsliveonthisproperty' (column 81)\n",
       "    'd_pool' (column 82)\n",
       "    'd_privateentrance' (column 83)\n",
       "    'd_privatelivingroom' (column 84)\n",
       "    'd_safetycard' (column 85)\n",
       "    'd_selfcheckin' (column 86)\n",
       "    'd_shampoo' (column 87)\n",
       "    'd_smartlock' (column 88)\n",
       "    'd_smokedetector' (column 89)\n",
       "    'd_smokingallowed' (column 90)\n",
       "    'd_suitableforevents' (column 91)\n",
       "    'd_tv' (column 92)\n",
       "    'd_washer' (column 93)\n",
       "    'd_washerdryer' (column 94)\n",
       "    'd_wheelchairaccessible' (column 95)\n",
       "    'd_wirelessinternet' (column 96)\n",
       "  (to view full data, use np.asarray(this_obj))"
      ]
     },
     "execution_count": 20,
     "metadata": {},
     "output_type": "execute_result"
    }
   ],
   "source": [
    "X"
   ]
  },
  {
   "cell_type": "code",
   "execution_count": 21,
   "metadata": {},
   "outputs": [
    {
     "data": {
      "text/plain": [
       "array([[1., 0., 1., ..., 0., 0., 1.],\n",
       "       [1., 0., 1., ..., 0., 0., 1.],\n",
       "       [1., 0., 1., ..., 0., 0., 1.],\n",
       "       ...,\n",
       "       [1., 0., 0., ..., 0., 0., 1.],\n",
       "       [1., 1., 1., ..., 0., 0., 1.],\n",
       "       [1., 0., 0., ..., 0., 0., 1.]])"
      ]
     },
     "execution_count": 21,
     "metadata": {},
     "output_type": "execute_result"
    }
   ],
   "source": [
    "np.asarray(X)"
   ]
  },
  {
   "cell_type": "code",
   "execution_count": 22,
   "metadata": {},
   "outputs": [],
   "source": [
    "import math"
   ]
  },
  {
   "cell_type": "code",
   "execution_count": 23,
   "metadata": {},
   "outputs": [
    {
     "name": "stdout",
     "output_type": "stream",
     "text": [
      "The theoretical recommended number of variables: 9.85.\n"
     ]
    }
   ],
   "source": [
    "print('The theoretical recommended number of variables: {:.2f}.'.format(math.sqrt(len(X.design_info.column_names))))"
   ]
  },
  {
   "cell_type": "code",
   "execution_count": 24,
   "metadata": {},
   "outputs": [
    {
     "data": {
      "text/plain": [
       "(34878, 97)"
      ]
     },
     "execution_count": 24,
     "metadata": {},
     "output_type": "execute_result"
    }
   ],
   "source": [
    "X.shape"
   ]
  },
  {
   "cell_type": "code",
   "execution_count": 25,
   "metadata": {},
   "outputs": [
    {
     "data": {
      "text/plain": [
       "patsy.design_info.DesignMatrix"
      ]
     },
     "execution_count": 25,
     "metadata": {},
     "output_type": "execute_result"
    }
   ],
   "source": [
    "type(y)"
   ]
  },
  {
   "cell_type": "code",
   "execution_count": 26,
   "metadata": {},
   "outputs": [
    {
     "data": {
      "text/plain": [
       "(34878, 1)"
      ]
     },
     "execution_count": 26,
     "metadata": {},
     "output_type": "execute_result"
    }
   ],
   "source": [
    "# a two-dimensional object\n",
    "y.shape"
   ]
  },
  {
   "cell_type": "code",
   "execution_count": 27,
   "metadata": {},
   "outputs": [
    {
     "data": {
      "text/plain": [
       "(34878,)"
      ]
     },
     "execution_count": 27,
     "metadata": {},
     "output_type": "execute_result"
    }
   ],
   "source": [
    "# using ravel() we flatten it to a one-dimensional data object. \n",
    "y.ravel().shape"
   ]
  },
  {
   "cell_type": "code",
   "execution_count": 28,
   "metadata": {},
   "outputs": [],
   "source": [
    "rfr = RandomForestRegressor(random_state = 42)"
   ]
  },
  {
   "cell_type": "markdown",
   "metadata": {},
   "source": [
    "A random forest is a meta estimator that fits a number of classifying decision trees on various sub-samples of the dataset and uses averaging to improve the predictive accuracy and control over-fitting. "
   ]
  },
  {
   "cell_type": "code",
   "execution_count": 29,
   "metadata": {},
   "outputs": [],
   "source": [
    "tune_grid = {\"max_features\": [6, 8, 10, 12], \"min_samples_leaf\": [5, 10, 15]}"
   ]
  },
  {
   "cell_type": "code",
   "execution_count": 30,
   "metadata": {},
   "outputs": [],
   "source": [
    "rf_random = GridSearchCV(\n",
    "    rfr,\n",
    "    tune_grid,\n",
    "    cv=5,\n",
    "    scoring=\"neg_root_mean_squared_error\",\n",
    "    verbose=3,\n",
    ")"
   ]
  },
  {
   "cell_type": "markdown",
   "metadata": {},
   "source": [
    "`GridsearchCV()` is an exhaustive search over specified parameter values for an estimator."
   ]
  },
  {
   "cell_type": "code",
   "execution_count": 31,
   "metadata": {},
   "outputs": [
    {
     "name": "stdout",
     "output_type": "stream",
     "text": [
      "Fitting 5 folds for each of 12 candidates, totalling 60 fits\n",
      "[CV 1/5] END .............max_features=6, min_samples_leaf=5; total time=   2.1s\n",
      "[CV 2/5] END .............max_features=6, min_samples_leaf=5; total time=   2.0s\n",
      "[CV 3/5] END .............max_features=6, min_samples_leaf=5; total time=   2.0s\n",
      "[CV 4/5] END .............max_features=6, min_samples_leaf=5; total time=   2.0s\n",
      "[CV 5/5] END .............max_features=6, min_samples_leaf=5; total time=   2.0s\n",
      "[CV 1/5] END ............max_features=6, min_samples_leaf=10; total time=   1.7s\n",
      "[CV 2/5] END ............max_features=6, min_samples_leaf=10; total time=   1.7s\n",
      "[CV 3/5] END ............max_features=6, min_samples_leaf=10; total time=   1.7s\n",
      "[CV 4/5] END ............max_features=6, min_samples_leaf=10; total time=   1.7s\n",
      "[CV 5/5] END ............max_features=6, min_samples_leaf=10; total time=   1.7s\n",
      "[CV 1/5] END ............max_features=6, min_samples_leaf=15; total time=   1.6s\n",
      "[CV 2/5] END ............max_features=6, min_samples_leaf=15; total time=   1.6s\n",
      "[CV 3/5] END ............max_features=6, min_samples_leaf=15; total time=   1.7s\n",
      "[CV 4/5] END ............max_features=6, min_samples_leaf=15; total time=   1.6s\n",
      "[CV 5/5] END ............max_features=6, min_samples_leaf=15; total time=   1.6s\n",
      "[CV 1/5] END .............max_features=8, min_samples_leaf=5; total time=   2.4s\n",
      "[CV 2/5] END .............max_features=8, min_samples_leaf=5; total time=   3.0s\n",
      "[CV 3/5] END .............max_features=8, min_samples_leaf=5; total time=   2.5s\n",
      "[CV 4/5] END .............max_features=8, min_samples_leaf=5; total time=   2.4s\n",
      "[CV 5/5] END .............max_features=8, min_samples_leaf=5; total time=   2.4s\n",
      "[CV 1/5] END ............max_features=8, min_samples_leaf=10; total time=   2.1s\n",
      "[CV 2/5] END ............max_features=8, min_samples_leaf=10; total time=   2.2s\n",
      "[CV 3/5] END ............max_features=8, min_samples_leaf=10; total time=   2.2s\n",
      "[CV 4/5] END ............max_features=8, min_samples_leaf=10; total time=   2.2s\n",
      "[CV 5/5] END ............max_features=8, min_samples_leaf=10; total time=   2.1s\n",
      "[CV 1/5] END ............max_features=8, min_samples_leaf=15; total time=   2.0s\n",
      "[CV 2/5] END ............max_features=8, min_samples_leaf=15; total time=   2.1s\n",
      "[CV 3/5] END ............max_features=8, min_samples_leaf=15; total time=   2.1s\n",
      "[CV 4/5] END ............max_features=8, min_samples_leaf=15; total time=   2.3s\n",
      "[CV 5/5] END ............max_features=8, min_samples_leaf=15; total time=   2.2s\n",
      "[CV 1/5] END ............max_features=10, min_samples_leaf=5; total time=   2.8s\n",
      "[CV 2/5] END ............max_features=10, min_samples_leaf=5; total time=   2.8s\n",
      "[CV 3/5] END ............max_features=10, min_samples_leaf=5; total time=   2.8s\n",
      "[CV 4/5] END ............max_features=10, min_samples_leaf=5; total time=   2.7s\n",
      "[CV 5/5] END ............max_features=10, min_samples_leaf=5; total time=   2.7s\n",
      "[CV 1/5] END ...........max_features=10, min_samples_leaf=10; total time=   2.4s\n",
      "[CV 2/5] END ...........max_features=10, min_samples_leaf=10; total time=   3.0s\n",
      "[CV 3/5] END ...........max_features=10, min_samples_leaf=10; total time=   2.5s\n",
      "[CV 4/5] END ...........max_features=10, min_samples_leaf=10; total time=   2.8s\n",
      "[CV 5/5] END ...........max_features=10, min_samples_leaf=10; total time=   4.3s\n",
      "[CV 1/5] END ...........max_features=10, min_samples_leaf=15; total time=   2.6s\n",
      "[CV 2/5] END ...........max_features=10, min_samples_leaf=15; total time=   2.9s\n",
      "[CV 3/5] END ...........max_features=10, min_samples_leaf=15; total time=   4.4s\n",
      "[CV 4/5] END ...........max_features=10, min_samples_leaf=15; total time=   3.2s\n",
      "[CV 5/5] END ...........max_features=10, min_samples_leaf=15; total time=   2.8s\n",
      "[CV 1/5] END ............max_features=12, min_samples_leaf=5; total time=   3.4s\n",
      "[CV 2/5] END ............max_features=12, min_samples_leaf=5; total time=   3.2s\n",
      "[CV 3/5] END ............max_features=12, min_samples_leaf=5; total time=   3.3s\n",
      "[CV 4/5] END ............max_features=12, min_samples_leaf=5; total time=   3.5s\n",
      "[CV 5/5] END ............max_features=12, min_samples_leaf=5; total time=   3.5s\n",
      "[CV 1/5] END ...........max_features=12, min_samples_leaf=10; total time=   3.0s\n",
      "[CV 2/5] END ...........max_features=12, min_samples_leaf=10; total time=   3.0s\n",
      "[CV 3/5] END ...........max_features=12, min_samples_leaf=10; total time=   2.7s\n",
      "[CV 4/5] END ...........max_features=12, min_samples_leaf=10; total time=   2.8s\n",
      "[CV 5/5] END ...........max_features=12, min_samples_leaf=10; total time=   3.0s\n",
      "[CV 1/5] END ...........max_features=12, min_samples_leaf=15; total time=   2.7s\n",
      "[CV 2/5] END ...........max_features=12, min_samples_leaf=15; total time=   2.7s\n",
      "[CV 3/5] END ...........max_features=12, min_samples_leaf=15; total time=   3.1s\n",
      "[CV 4/5] END ...........max_features=12, min_samples_leaf=15; total time=   3.0s\n",
      "[CV 5/5] END ...........max_features=12, min_samples_leaf=15; total time=   2.9s\n",
      "CPU times: user 2min 23s, sys: 3.36 s, total: 2min 26s\n",
      "Wall time: 2min 36s\n"
     ]
    }
   ],
   "source": [
    "%%time\n",
    "rf_model = rf_random.fit(X, y.ravel())"
   ]
  },
  {
   "cell_type": "markdown",
   "metadata": {},
   "source": [
    "<br>\n",
    "\n",
    "Cross-validated results are saved in the grid search object's `cv_results_` attribute. Note that *RMSE* is displayed as a negative number. "
   ]
  },
  {
   "cell_type": "code",
   "execution_count": 32,
   "metadata": {},
   "outputs": [
    {
     "data": {
      "text/plain": [
       "{'mean_fit_time': array([1.90825534, 1.64267068, 1.55470901, 2.44246593, 2.06832156,\n",
       "        2.03393326, 2.65544758, 2.89682837, 3.04799991, 3.28179646,\n",
       "        2.80481453, 2.78350353]),\n",
       " 'std_fit_time': array([0.06024001, 0.01258657, 0.04557351, 0.21769515, 0.01472828,\n",
       "        0.07324288, 0.03217807, 0.67129351, 0.59672245, 0.12405862,\n",
       "        0.11198352, 0.1319228 ]),\n",
       " 'mean_score_time': array([0.09920039, 0.08289113, 0.07548275, 0.10518541, 0.08914542,\n",
       "        0.10160546, 0.10506878, 0.08975301, 0.14221797, 0.10788798,\n",
       "        0.09511323, 0.09127016]),\n",
       " 'std_score_time': array([0.0010681 , 0.00049418, 0.0003713 , 0.00224098, 0.00057631,\n",
       "        0.0393161 , 0.00093119, 0.00247956, 0.0625234 , 0.00109043,\n",
       "        0.009647  , 0.00968146]),\n",
       " 'param_max_features': masked_array(data=[6, 6, 6, 8, 8, 8, 10, 10, 10, 12, 12, 12],\n",
       "              mask=[False, False, False, False, False, False, False, False,\n",
       "                    False, False, False, False],\n",
       "        fill_value='?',\n",
       "             dtype=object),\n",
       " 'param_min_samples_leaf': masked_array(data=[5, 10, 15, 5, 10, 15, 5, 10, 15, 5, 10, 15],\n",
       "              mask=[False, False, False, False, False, False, False, False,\n",
       "                    False, False, False, False],\n",
       "        fill_value='?',\n",
       "             dtype=object),\n",
       " 'params': [{'max_features': 6, 'min_samples_leaf': 5},\n",
       "  {'max_features': 6, 'min_samples_leaf': 10},\n",
       "  {'max_features': 6, 'min_samples_leaf': 15},\n",
       "  {'max_features': 8, 'min_samples_leaf': 5},\n",
       "  {'max_features': 8, 'min_samples_leaf': 10},\n",
       "  {'max_features': 8, 'min_samples_leaf': 15},\n",
       "  {'max_features': 10, 'min_samples_leaf': 5},\n",
       "  {'max_features': 10, 'min_samples_leaf': 10},\n",
       "  {'max_features': 10, 'min_samples_leaf': 15},\n",
       "  {'max_features': 12, 'min_samples_leaf': 5},\n",
       "  {'max_features': 12, 'min_samples_leaf': 10},\n",
       "  {'max_features': 12, 'min_samples_leaf': 15}],\n",
       " 'split0_test_score': array([-46.8647183 , -47.87576885, -48.54088987, -46.00194368,\n",
       "        -46.94414712, -47.51743074, -45.69464525, -46.46399393,\n",
       "        -46.8077914 , -45.3862103 , -45.97450121, -46.42472399]),\n",
       " 'split1_test_score': array([-45.70372687, -46.51434611, -46.89019818, -45.05427601,\n",
       "        -45.89521593, -46.09633958, -44.70028655, -45.3426587 ,\n",
       "        -45.85174167, -44.49176908, -45.05591668, -45.34723201]),\n",
       " 'split2_test_score': array([-46.75337345, -47.5285874 , -48.25227066, -45.74295028,\n",
       "        -46.73733877, -47.1325167 , -45.38464243, -46.16793825,\n",
       "        -46.6407317 , -45.14942825, -45.65776782, -46.179529  ]),\n",
       " 'split3_test_score': array([-44.57754132, -45.63984462, -46.47626307, -43.79166343,\n",
       "        -44.77787985, -45.50535974, -43.25373154, -44.14246837,\n",
       "        -44.8530673 , -42.83650116, -43.76863902, -44.23210372]),\n",
       " 'split4_test_score': array([-47.87014267, -48.92149454, -49.60412034, -46.80291293,\n",
       "        -47.85151037, -48.32807674, -46.33560807, -47.17450002,\n",
       "        -47.74987866, -46.02881922, -46.80629033, -47.32884081]),\n",
       " 'mean_test_score': array([-46.35390052, -47.2960083 , -47.95274842, -45.47874927,\n",
       "        -46.44121841, -46.9159447 , -45.07378277, -45.85831185,\n",
       "        -46.38064214, -44.7785456 , -45.45262301, -45.90248591]),\n",
       " 'std_test_score': array([1.12229065, 1.13015882, 1.13768846, 1.01226283, 1.03868781,\n",
       "        1.00641028, 1.0513223 , 1.03971992, 0.97346107, 1.08846422,\n",
       "        1.01390675, 1.04713489]),\n",
       " 'rank_test_score': array([ 7, 11, 12,  4,  9, 10,  2,  5,  8,  1,  3,  6], dtype=int32)}"
      ]
     },
     "execution_count": 32,
     "metadata": {},
     "output_type": "execute_result"
    }
   ],
   "source": [
    "rf_model.cv_results_"
   ]
  },
  {
   "cell_type": "code",
   "execution_count": 33,
   "metadata": {},
   "outputs": [],
   "source": [
    "df_rf_model_cv_results = pd.DataFrame(rf_model.cv_results_)[[\n",
    "    'param_max_features', 'param_min_samples_leaf', 'mean_test_score']]"
   ]
  },
  {
   "cell_type": "code",
   "execution_count": 34,
   "metadata": {},
   "outputs": [],
   "source": [
    "df_rf_model_cv_results.columns = ['max features', 'min node size', 'RMSE']"
   ]
  },
  {
   "cell_type": "code",
   "execution_count": 35,
   "metadata": {},
   "outputs": [
    {
     "data": {
      "text/html": [
       "<div>\n",
       "<style scoped>\n",
       "    .dataframe tbody tr th:only-of-type {\n",
       "        vertical-align: middle;\n",
       "    }\n",
       "\n",
       "    .dataframe tbody tr th {\n",
       "        vertical-align: top;\n",
       "    }\n",
       "\n",
       "    .dataframe thead th {\n",
       "        text-align: right;\n",
       "    }\n",
       "</style>\n",
       "<table border=\"1\" class=\"dataframe\">\n",
       "  <thead>\n",
       "    <tr style=\"text-align: right;\">\n",
       "      <th></th>\n",
       "      <th>max features</th>\n",
       "      <th>min node size</th>\n",
       "      <th>RMSE</th>\n",
       "    </tr>\n",
       "  </thead>\n",
       "  <tbody>\n",
       "    <tr>\n",
       "      <th>0</th>\n",
       "      <td>6</td>\n",
       "      <td>5</td>\n",
       "      <td>-46.353901</td>\n",
       "    </tr>\n",
       "    <tr>\n",
       "      <th>1</th>\n",
       "      <td>6</td>\n",
       "      <td>10</td>\n",
       "      <td>-47.296008</td>\n",
       "    </tr>\n",
       "    <tr>\n",
       "      <th>2</th>\n",
       "      <td>6</td>\n",
       "      <td>15</td>\n",
       "      <td>-47.952748</td>\n",
       "    </tr>\n",
       "    <tr>\n",
       "      <th>3</th>\n",
       "      <td>8</td>\n",
       "      <td>5</td>\n",
       "      <td>-45.478749</td>\n",
       "    </tr>\n",
       "    <tr>\n",
       "      <th>4</th>\n",
       "      <td>8</td>\n",
       "      <td>10</td>\n",
       "      <td>-46.441218</td>\n",
       "    </tr>\n",
       "    <tr>\n",
       "      <th>5</th>\n",
       "      <td>8</td>\n",
       "      <td>15</td>\n",
       "      <td>-46.915945</td>\n",
       "    </tr>\n",
       "    <tr>\n",
       "      <th>6</th>\n",
       "      <td>10</td>\n",
       "      <td>5</td>\n",
       "      <td>-45.073783</td>\n",
       "    </tr>\n",
       "    <tr>\n",
       "      <th>7</th>\n",
       "      <td>10</td>\n",
       "      <td>10</td>\n",
       "      <td>-45.858312</td>\n",
       "    </tr>\n",
       "    <tr>\n",
       "      <th>8</th>\n",
       "      <td>10</td>\n",
       "      <td>15</td>\n",
       "      <td>-46.380642</td>\n",
       "    </tr>\n",
       "    <tr>\n",
       "      <th>9</th>\n",
       "      <td>12</td>\n",
       "      <td>5</td>\n",
       "      <td>-44.778546</td>\n",
       "    </tr>\n",
       "    <tr>\n",
       "      <th>10</th>\n",
       "      <td>12</td>\n",
       "      <td>10</td>\n",
       "      <td>-45.452623</td>\n",
       "    </tr>\n",
       "    <tr>\n",
       "      <th>11</th>\n",
       "      <td>12</td>\n",
       "      <td>15</td>\n",
       "      <td>-45.902486</td>\n",
       "    </tr>\n",
       "  </tbody>\n",
       "</table>\n",
       "</div>"
      ],
      "text/plain": [
       "   max features min node size       RMSE\n",
       "0             6             5 -46.353901\n",
       "1             6            10 -47.296008\n",
       "2             6            15 -47.952748\n",
       "3             8             5 -45.478749\n",
       "4             8            10 -46.441218\n",
       "5             8            15 -46.915945\n",
       "6            10             5 -45.073783\n",
       "7            10            10 -45.858312\n",
       "8            10            15 -46.380642\n",
       "9            12             5 -44.778546\n",
       "10           12            10 -45.452623\n",
       "11           12            15 -45.902486"
      ]
     },
     "execution_count": 35,
     "metadata": {},
     "output_type": "execute_result"
    }
   ],
   "source": [
    "df_rf_model_cv_results"
   ]
  },
  {
   "cell_type": "code",
   "execution_count": 36,
   "metadata": {},
   "outputs": [
    {
     "data": {
      "text/html": [
       "<div>\n",
       "<style scoped>\n",
       "    .dataframe tbody tr th:only-of-type {\n",
       "        vertical-align: middle;\n",
       "    }\n",
       "\n",
       "    .dataframe tbody tr th {\n",
       "        vertical-align: top;\n",
       "    }\n",
       "\n",
       "    .dataframe thead th {\n",
       "        text-align: right;\n",
       "    }\n",
       "</style>\n",
       "<table border=\"1\" class=\"dataframe\">\n",
       "  <thead>\n",
       "    <tr style=\"text-align: right;\">\n",
       "      <th>min node size</th>\n",
       "      <th>5</th>\n",
       "      <th>10</th>\n",
       "      <th>15</th>\n",
       "    </tr>\n",
       "    <tr>\n",
       "      <th>max features</th>\n",
       "      <th></th>\n",
       "      <th></th>\n",
       "      <th></th>\n",
       "    </tr>\n",
       "  </thead>\n",
       "  <tbody>\n",
       "    <tr>\n",
       "      <th>6</th>\n",
       "      <td>46.35</td>\n",
       "      <td>47.30</td>\n",
       "      <td>47.95</td>\n",
       "    </tr>\n",
       "    <tr>\n",
       "      <th>8</th>\n",
       "      <td>45.48</td>\n",
       "      <td>46.44</td>\n",
       "      <td>46.92</td>\n",
       "    </tr>\n",
       "    <tr>\n",
       "      <th>10</th>\n",
       "      <td>45.07</td>\n",
       "      <td>45.86</td>\n",
       "      <td>46.38</td>\n",
       "    </tr>\n",
       "    <tr>\n",
       "      <th>12</th>\n",
       "      <td>44.78</td>\n",
       "      <td>45.45</td>\n",
       "      <td>45.90</td>\n",
       "    </tr>\n",
       "  </tbody>\n",
       "</table>\n",
       "</div>"
      ],
      "text/plain": [
       "min node size     5      10     15\n",
       "max features                      \n",
       "6              46.35  47.30  47.95\n",
       "8              45.48  46.44  46.92\n",
       "10             45.07  45.86  46.38\n",
       "12             44.78  45.45  45.90"
      ]
     },
     "execution_count": 36,
     "metadata": {},
     "output_type": "execute_result"
    }
   ],
   "source": [
    "df_rf_model_cv_results.pivot(\n",
    "    index = 'max features', \n",
    "    columns = 'min node size', \n",
    "    values = 'RMSE').round(2)*-1"
   ]
  },
  {
   "cell_type": "code",
   "execution_count": 37,
   "metadata": {},
   "outputs": [
    {
     "data": {
      "text/plain": [
       "-44.77854560414037"
      ]
     },
     "execution_count": 37,
     "metadata": {},
     "output_type": "execute_result"
    }
   ],
   "source": [
    "rf_model.best_score_"
   ]
  },
  {
   "cell_type": "code",
   "execution_count": 38,
   "metadata": {},
   "outputs": [
    {
     "data": {
      "text/plain": [
       "{'max_features': 12, 'min_samples_leaf': 5}"
      ]
     },
     "execution_count": 38,
     "metadata": {},
     "output_type": "execute_result"
    }
   ],
   "source": [
    "rf_model.best_params_"
   ]
  },
  {
   "cell_type": "code",
   "execution_count": 39,
   "metadata": {},
   "outputs": [
    {
     "data": {
      "text/plain": [
       "RandomForestRegressor(max_features=12, min_samples_leaf=5, random_state=42)"
      ]
     },
     "execution_count": 39,
     "metadata": {},
     "output_type": "execute_result"
    }
   ],
   "source": [
    "rf_model.best_estimator_"
   ]
  },
  {
   "cell_type": "markdown",
   "metadata": {
    "tags": []
   },
   "source": [
    "## PART III\n",
    "### MODEL DIAGNOSTICS \n",
    "---"
   ]
  },
  {
   "cell_type": "markdown",
   "metadata": {},
   "source": [
    "#### feature importances"
   ]
  },
  {
   "cell_type": "markdown",
   "metadata": {},
   "source": [
    "***individual***"
   ]
  },
  {
   "cell_type": "code",
   "execution_count": 40,
   "metadata": {
    "tags": []
   },
   "outputs": [],
   "source": [
    "df_var_imp = pd.DataFrame(\n",
    "    rf_model.best_estimator_.feature_importances_, \n",
    "    X.design_info.column_names)\\\n",
    "    .reset_index()\\\n",
    "    .rename({\"index\": \"variable\", 0: \"imp\"}, axis=1)\\\n",
    "    .sort_values(by=[\"imp\"], ascending=False)\\\n",
    "    .reset_index(drop = True)\n",
    "\n",
    "df_var_imp['cumulative_imp'] = df_var_imp['imp'].cumsum()"
   ]
  },
  {
   "cell_type": "code",
   "execution_count": 41,
   "metadata": {},
   "outputs": [
    {
     "data": {
      "text/html": [
       "<style  type=\"text/css\" >\n",
       "</style><table id=\"T_12c8d_\" ><thead>    <tr>        <th class=\"blank level0\" ></th>        <th class=\"col_heading level0 col0\" >variable</th>        <th class=\"col_heading level0 col1\" >imp</th>        <th class=\"col_heading level0 col2\" >cumulative_imp</th>    </tr></thead><tbody>\n",
       "                <tr>\n",
       "                        <th id=\"T_12c8d_level0_row0\" class=\"row_heading level0 row0\" >0</th>\n",
       "                        <td id=\"T_12c8d_row0_col0\" class=\"data row0 col0\" >f_room_type[T.Private room]</td>\n",
       "                        <td id=\"T_12c8d_row0_col1\" class=\"data row0 col1\" >19.6%</td>\n",
       "                        <td id=\"T_12c8d_row0_col2\" class=\"data row0 col2\" >19.6%</td>\n",
       "            </tr>\n",
       "            <tr>\n",
       "                        <th id=\"T_12c8d_level0_row1\" class=\"row_heading level0 row1\" >1</th>\n",
       "                        <td id=\"T_12c8d_row1_col0\" class=\"data row1 col0\" >n_accommodates</td>\n",
       "                        <td id=\"T_12c8d_row1_col1\" class=\"data row1 col1\" >19.5%</td>\n",
       "                        <td id=\"T_12c8d_row1_col2\" class=\"data row1 col2\" >39.0%</td>\n",
       "            </tr>\n",
       "            <tr>\n",
       "                        <th id=\"T_12c8d_level0_row2\" class=\"row_heading level0 row2\" >2</th>\n",
       "                        <td id=\"T_12c8d_row2_col0\" class=\"data row2 col0\" >n_beds</td>\n",
       "                        <td id=\"T_12c8d_row2_col1\" class=\"data row2 col1\" >11.9%</td>\n",
       "                        <td id=\"T_12c8d_row2_col2\" class=\"data row2 col2\" >51.0%</td>\n",
       "            </tr>\n",
       "            <tr>\n",
       "                        <th id=\"T_12c8d_level0_row3\" class=\"row_heading level0 row3\" >3</th>\n",
       "                        <td id=\"T_12c8d_row3_col0\" class=\"data row3 col0\" >f_bathroom</td>\n",
       "                        <td id=\"T_12c8d_row3_col1\" class=\"data row3 col1\" >10.7%</td>\n",
       "                        <td id=\"T_12c8d_row3_col2\" class=\"data row3 col2\" >61.7%</td>\n",
       "            </tr>\n",
       "            <tr>\n",
       "                        <th id=\"T_12c8d_level0_row4\" class=\"row_heading level0 row4\" >4</th>\n",
       "                        <td id=\"T_12c8d_row4_col0\" class=\"data row4 col0\" >f_neighbourhood_cleansed[T.Westminster]</td>\n",
       "                        <td id=\"T_12c8d_row4_col1\" class=\"data row4 col1\" >3.4%</td>\n",
       "                        <td id=\"T_12c8d_row4_col2\" class=\"data row4 col2\" >65.1%</td>\n",
       "            </tr>\n",
       "            <tr>\n",
       "                        <th id=\"T_12c8d_level0_row5\" class=\"row_heading level0 row5\" >5</th>\n",
       "                        <td id=\"T_12c8d_row5_col0\" class=\"data row5 col0\" >f_neighbourhood_cleansed[T.Kensington and Chelsea]</td>\n",
       "                        <td id=\"T_12c8d_row5_col1\" class=\"data row5 col1\" >3.0%</td>\n",
       "                        <td id=\"T_12c8d_row5_col2\" class=\"data row5 col2\" >68.2%</td>\n",
       "            </tr>\n",
       "            <tr>\n",
       "                        <th id=\"T_12c8d_level0_row6\" class=\"row_heading level0 row6\" >6</th>\n",
       "                        <td id=\"T_12c8d_row6_col0\" class=\"data row6 col0\" >d_tv</td>\n",
       "                        <td id=\"T_12c8d_row6_col1\" class=\"data row6 col1\" >2.7%</td>\n",
       "                        <td id=\"T_12c8d_row6_col2\" class=\"data row6 col2\" >70.8%</td>\n",
       "            </tr>\n",
       "            <tr>\n",
       "                        <th id=\"T_12c8d_level0_row7\" class=\"row_heading level0 row7\" >7</th>\n",
       "                        <td id=\"T_12c8d_row7_col0\" class=\"data row7 col0\" >d_familykidfriendly</td>\n",
       "                        <td id=\"T_12c8d_row7_col1\" class=\"data row7 col1\" >1.9%</td>\n",
       "                        <td id=\"T_12c8d_row7_col2\" class=\"data row7 col2\" >72.8%</td>\n",
       "            </tr>\n",
       "            <tr>\n",
       "                        <th id=\"T_12c8d_level0_row8\" class=\"row_heading level0 row8\" >8</th>\n",
       "                        <td id=\"T_12c8d_row8_col0\" class=\"data row8 col0\" >n_number_of_reviews</td>\n",
       "                        <td id=\"T_12c8d_row8_col1\" class=\"data row8 col1\" >1.8%</td>\n",
       "                        <td id=\"T_12c8d_row8_col2\" class=\"data row8 col2\" >74.6%</td>\n",
       "            </tr>\n",
       "            <tr>\n",
       "                        <th id=\"T_12c8d_level0_row9\" class=\"row_heading level0 row9\" >9</th>\n",
       "                        <td id=\"T_12c8d_row9_col0\" class=\"data row9 col0\" >d_dryer</td>\n",
       "                        <td id=\"T_12c8d_row9_col1\" class=\"data row9 col1\" >1.7%</td>\n",
       "                        <td id=\"T_12c8d_row9_col2\" class=\"data row9 col2\" >76.3%</td>\n",
       "            </tr>\n",
       "            <tr>\n",
       "                        <th id=\"T_12c8d_level0_row10\" class=\"row_heading level0 row10\" >10</th>\n",
       "                        <td id=\"T_12c8d_row10_col0\" class=\"data row10 col0\" >f_cancellation_policy[T.strict]</td>\n",
       "                        <td id=\"T_12c8d_row10_col1\" class=\"data row10 col1\" >1.7%</td>\n",
       "                        <td id=\"T_12c8d_row10_col2\" class=\"data row10 col2\" >78.0%</td>\n",
       "            </tr>\n",
       "            <tr>\n",
       "                        <th id=\"T_12c8d_level0_row11\" class=\"row_heading level0 row11\" >11</th>\n",
       "                        <td id=\"T_12c8d_row11_col0\" class=\"data row11 col0\" >n_days_since</td>\n",
       "                        <td id=\"T_12c8d_row11_col1\" class=\"data row11 col1\" >1.7%</td>\n",
       "                        <td id=\"T_12c8d_row11_col2\" class=\"data row11 col2\" >79.6%</td>\n",
       "            </tr>\n",
       "            <tr>\n",
       "                        <th id=\"T_12c8d_level0_row12\" class=\"row_heading level0 row12\" >12</th>\n",
       "                        <td id=\"T_12c8d_row12_col0\" class=\"data row12 col0\" >n_review_scores_rating</td>\n",
       "                        <td id=\"T_12c8d_row12_col1\" class=\"data row12 col1\" >1.4%</td>\n",
       "                        <td id=\"T_12c8d_row12_col2\" class=\"data row12 col2\" >81.1%</td>\n",
       "            </tr>\n",
       "            <tr>\n",
       "                        <th id=\"T_12c8d_level0_row13\" class=\"row_heading level0 row13\" >13</th>\n",
       "                        <td id=\"T_12c8d_row13_col0\" class=\"data row13 col0\" >f_property_type[T.House]</td>\n",
       "                        <td id=\"T_12c8d_row13_col1\" class=\"data row13 col1\" >1.3%</td>\n",
       "                        <td id=\"T_12c8d_row13_col2\" class=\"data row13 col2\" >82.4%</td>\n",
       "            </tr>\n",
       "            <tr>\n",
       "                        <th id=\"T_12c8d_level0_row14\" class=\"row_heading level0 row14\" >14</th>\n",
       "                        <td id=\"T_12c8d_row14_col0\" class=\"data row14 col0\" >d_airconditioning</td>\n",
       "                        <td id=\"T_12c8d_row14_col1\" class=\"data row14 col1\" >1.0%</td>\n",
       "                        <td id=\"T_12c8d_row14_col2\" class=\"data row14 col2\" >83.4%</td>\n",
       "            </tr>\n",
       "            <tr>\n",
       "                        <th id=\"T_12c8d_level0_row15\" class=\"row_heading level0 row15\" >15</th>\n",
       "                        <td id=\"T_12c8d_row15_col0\" class=\"data row15 col0\" >d_freeparkingonpremises</td>\n",
       "                        <td id=\"T_12c8d_row15_col1\" class=\"data row15 col1\" >0.9%</td>\n",
       "                        <td id=\"T_12c8d_row15_col2\" class=\"data row15 col2\" >84.3%</td>\n",
       "            </tr>\n",
       "            <tr>\n",
       "                        <th id=\"T_12c8d_level0_row16\" class=\"row_heading level0 row16\" >16</th>\n",
       "                        <td id=\"T_12c8d_row16_col0\" class=\"data row16 col0\" >d_cabletv</td>\n",
       "                        <td id=\"T_12c8d_row16_col1\" class=\"data row16 col1\" >0.8%</td>\n",
       "                        <td id=\"T_12c8d_row16_col2\" class=\"data row16 col2\" >85.1%</td>\n",
       "            </tr>\n",
       "            <tr>\n",
       "                        <th id=\"T_12c8d_level0_row17\" class=\"row_heading level0 row17\" >17</th>\n",
       "                        <td id=\"T_12c8d_row17_col0\" class=\"data row17 col0\" >d_elevatorinbuilding</td>\n",
       "                        <td id=\"T_12c8d_row17_col1\" class=\"data row17 col1\" >0.7%</td>\n",
       "                        <td id=\"T_12c8d_row17_col2\" class=\"data row17 col2\" >85.8%</td>\n",
       "            </tr>\n",
       "            <tr>\n",
       "                        <th id=\"T_12c8d_level0_row18\" class=\"row_heading level0 row18\" >18</th>\n",
       "                        <td id=\"T_12c8d_row18_col0\" class=\"data row18 col0\" >flag_review_scores_rating</td>\n",
       "                        <td id=\"T_12c8d_row18_col1\" class=\"data row18 col1\" >0.6%</td>\n",
       "                        <td id=\"T_12c8d_row18_col2\" class=\"data row18 col2\" >86.5%</td>\n",
       "            </tr>\n",
       "            <tr>\n",
       "                        <th id=\"T_12c8d_level0_row19\" class=\"row_heading level0 row19\" >19</th>\n",
       "                        <td id=\"T_12c8d_row19_col0\" class=\"data row19 col0\" >d_indoorfireplace</td>\n",
       "                        <td id=\"T_12c8d_row19_col1\" class=\"data row19 col1\" >0.6%</td>\n",
       "                        <td id=\"T_12c8d_row19_col2\" class=\"data row19 col2\" >87.1%</td>\n",
       "            </tr>\n",
       "            <tr>\n",
       "                        <th id=\"T_12c8d_level0_row20\" class=\"row_heading level0 row20\" >20</th>\n",
       "                        <td id=\"T_12c8d_row20_col0\" class=\"data row20 col0\" >d_carbonmonoxidedetector</td>\n",
       "                        <td id=\"T_12c8d_row20_col1\" class=\"data row20 col1\" >0.6%</td>\n",
       "                        <td id=\"T_12c8d_row20_col2\" class=\"data row20 col2\" >87.7%</td>\n",
       "            </tr>\n",
       "            <tr>\n",
       "                        <th id=\"T_12c8d_level0_row21\" class=\"row_heading level0 row21\" >21</th>\n",
       "                        <td id=\"T_12c8d_row21_col0\" class=\"data row21 col0\" >d_iron</td>\n",
       "                        <td id=\"T_12c8d_row21_col1\" class=\"data row21 col1\" >0.6%</td>\n",
       "                        <td id=\"T_12c8d_row21_col2\" class=\"data row21 col2\" >88.2%</td>\n",
       "            </tr>\n",
       "            <tr>\n",
       "                        <th id=\"T_12c8d_level0_row22\" class=\"row_heading level0 row22\" >22</th>\n",
       "                        <td id=\"T_12c8d_row22_col0\" class=\"data row22 col0\" >d_hairdryer</td>\n",
       "                        <td id=\"T_12c8d_row22_col1\" class=\"data row22 col1\" >0.6%</td>\n",
       "                        <td id=\"T_12c8d_row22_col2\" class=\"data row22 col2\" >88.8%</td>\n",
       "            </tr>\n",
       "            <tr>\n",
       "                        <th id=\"T_12c8d_level0_row23\" class=\"row_heading level0 row23\" >23</th>\n",
       "                        <td id=\"T_12c8d_row23_col0\" class=\"data row23 col0\" >flag_n_number_of_reviews</td>\n",
       "                        <td id=\"T_12c8d_row23_col1\" class=\"data row23 col1\" >0.6%</td>\n",
       "                        <td id=\"T_12c8d_row23_col2\" class=\"data row23 col2\" >89.3%</td>\n",
       "            </tr>\n",
       "            <tr>\n",
       "                        <th id=\"T_12c8d_level0_row24\" class=\"row_heading level0 row24\" >24</th>\n",
       "                        <td id=\"T_12c8d_row24_col0\" class=\"data row24 col0\" >d_buzzerwirelessintercom</td>\n",
       "                        <td id=\"T_12c8d_row24_col1\" class=\"data row24 col1\" >0.5%</td>\n",
       "                        <td id=\"T_12c8d_row24_col2\" class=\"data row24 col2\" >89.9%</td>\n",
       "            </tr>\n",
       "            <tr>\n",
       "                        <th id=\"T_12c8d_level0_row25\" class=\"row_heading level0 row25\" >25</th>\n",
       "                        <td id=\"T_12c8d_row25_col0\" class=\"data row25 col0\" >f_room_type[T.Shared room]</td>\n",
       "                        <td id=\"T_12c8d_row25_col1\" class=\"data row25 col1\" >0.5%</td>\n",
       "                        <td id=\"T_12c8d_row25_col2\" class=\"data row25 col2\" >90.4%</td>\n",
       "            </tr>\n",
       "            <tr>\n",
       "                        <th id=\"T_12c8d_level0_row26\" class=\"row_heading level0 row26\" >26</th>\n",
       "                        <td id=\"T_12c8d_row26_col0\" class=\"data row26 col0\" >d_laptopfriendlyworkspace</td>\n",
       "                        <td id=\"T_12c8d_row26_col1\" class=\"data row26 col1\" >0.5%</td>\n",
       "                        <td id=\"T_12c8d_row26_col2\" class=\"data row26 col2\" >90.9%</td>\n",
       "            </tr>\n",
       "            <tr>\n",
       "                        <th id=\"T_12c8d_level0_row27\" class=\"row_heading level0 row27\" >27</th>\n",
       "                        <td id=\"T_12c8d_row27_col0\" class=\"data row27 col0\" >d_fireextinguisher</td>\n",
       "                        <td id=\"T_12c8d_row27_col1\" class=\"data row27 col1\" >0.5%</td>\n",
       "                        <td id=\"T_12c8d_row27_col2\" class=\"data row27 col2\" >91.4%</td>\n",
       "            </tr>\n",
       "            <tr>\n",
       "                        <th id=\"T_12c8d_level0_row28\" class=\"row_heading level0 row28\" >28</th>\n",
       "                        <td id=\"T_12c8d_row28_col0\" class=\"data row28 col0\" >d_shampoo</td>\n",
       "                        <td id=\"T_12c8d_row28_col1\" class=\"data row28 col1\" >0.5%</td>\n",
       "                        <td id=\"T_12c8d_row28_col2\" class=\"data row28 col2\" >91.9%</td>\n",
       "            </tr>\n",
       "            <tr>\n",
       "                        <th id=\"T_12c8d_level0_row29\" class=\"row_heading level0 row29\" >29</th>\n",
       "                        <td id=\"T_12c8d_row29_col0\" class=\"data row29 col0\" >d_lockonbedroomdoor</td>\n",
       "                        <td id=\"T_12c8d_row29_col1\" class=\"data row29 col1\" >0.5%</td>\n",
       "                        <td id=\"T_12c8d_row29_col2\" class=\"data row29 col2\" >92.4%</td>\n",
       "            </tr>\n",
       "            <tr>\n",
       "                        <th id=\"T_12c8d_level0_row30\" class=\"row_heading level0 row30\" >30</th>\n",
       "                        <td id=\"T_12c8d_row30_col0\" class=\"data row30 col0\" >d_internet</td>\n",
       "                        <td id=\"T_12c8d_row30_col1\" class=\"data row30 col1\" >0.5%</td>\n",
       "                        <td id=\"T_12c8d_row30_col2\" class=\"data row30 col2\" >92.8%</td>\n",
       "            </tr>\n",
       "            <tr>\n",
       "                        <th id=\"T_12c8d_level0_row31\" class=\"row_heading level0 row31\" >31</th>\n",
       "                        <td id=\"T_12c8d_row31_col0\" class=\"data row31 col0\" >d_firstaidkit</td>\n",
       "                        <td id=\"T_12c8d_row31_col1\" class=\"data row31 col1\" >0.4%</td>\n",
       "                        <td id=\"T_12c8d_row31_col2\" class=\"data row31 col2\" >93.3%</td>\n",
       "            </tr>\n",
       "            <tr>\n",
       "                        <th id=\"T_12c8d_level0_row32\" class=\"row_heading level0 row32\" >32</th>\n",
       "                        <td id=\"T_12c8d_row32_col0\" class=\"data row32 col0\" >f_neighbourhood_cleansed[T.Camden]</td>\n",
       "                        <td id=\"T_12c8d_row32_col1\" class=\"data row32 col1\" >0.4%</td>\n",
       "                        <td id=\"T_12c8d_row32_col2\" class=\"data row32 col2\" >93.7%</td>\n",
       "            </tr>\n",
       "            <tr>\n",
       "                        <th id=\"T_12c8d_level0_row33\" class=\"row_heading level0 row33\" >33</th>\n",
       "                        <td id=\"T_12c8d_row33_col0\" class=\"data row33 col0\" >d_hangers</td>\n",
       "                        <td id=\"T_12c8d_row33_col1\" class=\"data row33 col1\" >0.4%</td>\n",
       "                        <td id=\"T_12c8d_row33_col2\" class=\"data row33 col2\" >94.1%</td>\n",
       "            </tr>\n",
       "            <tr>\n",
       "                        <th id=\"T_12c8d_level0_row34\" class=\"row_heading level0 row34\" >34</th>\n",
       "                        <td id=\"T_12c8d_row34_col0\" class=\"data row34 col0\" >d_24hourcheckin</td>\n",
       "                        <td id=\"T_12c8d_row34_col1\" class=\"data row34 col1\" >0.4%</td>\n",
       "                        <td id=\"T_12c8d_row34_col2\" class=\"data row34 col2\" >94.5%</td>\n",
       "            </tr>\n",
       "            <tr>\n",
       "                        <th id=\"T_12c8d_level0_row35\" class=\"row_heading level0 row35\" >35</th>\n",
       "                        <td id=\"T_12c8d_row35_col0\" class=\"data row35 col0\" >f_cancellation_policy[T.moderate]</td>\n",
       "                        <td id=\"T_12c8d_row35_col1\" class=\"data row35 col1\" >0.4%</td>\n",
       "                        <td id=\"T_12c8d_row35_col2\" class=\"data row35 col2\" >94.9%</td>\n",
       "            </tr>\n",
       "            <tr>\n",
       "                        <th id=\"T_12c8d_level0_row36\" class=\"row_heading level0 row36\" >36</th>\n",
       "                        <td id=\"T_12c8d_row36_col0\" class=\"data row36 col0\" >d_smokedetector</td>\n",
       "                        <td id=\"T_12c8d_row36_col1\" class=\"data row36 col1\" >0.4%</td>\n",
       "                        <td id=\"T_12c8d_row36_col2\" class=\"data row36 col2\" >95.2%</td>\n",
       "            </tr>\n",
       "            <tr>\n",
       "                        <th id=\"T_12c8d_level0_row37\" class=\"row_heading level0 row37\" >37</th>\n",
       "                        <td id=\"T_12c8d_row37_col0\" class=\"data row37 col0\" >f_neighbourhood_cleansed[T.Tower Hamlets]</td>\n",
       "                        <td id=\"T_12c8d_row37_col1\" class=\"data row37 col1\" >0.3%</td>\n",
       "                        <td id=\"T_12c8d_row37_col2\" class=\"data row37 col2\" >95.6%</td>\n",
       "            </tr>\n",
       "            <tr>\n",
       "                        <th id=\"T_12c8d_level0_row38\" class=\"row_heading level0 row38\" >38</th>\n",
       "                        <td id=\"T_12c8d_row38_col0\" class=\"data row38 col0\" >d_washer</td>\n",
       "                        <td id=\"T_12c8d_row38_col1\" class=\"data row38 col1\" >0.3%</td>\n",
       "                        <td id=\"T_12c8d_row38_col2\" class=\"data row38 col2\" >95.9%</td>\n",
       "            </tr>\n",
       "            <tr>\n",
       "                        <th id=\"T_12c8d_level0_row39\" class=\"row_heading level0 row39\" >39</th>\n",
       "                        <td id=\"T_12c8d_row39_col0\" class=\"data row39 col0\" >d_safetycard</td>\n",
       "                        <td id=\"T_12c8d_row39_col1\" class=\"data row39 col1\" >0.3%</td>\n",
       "                        <td id=\"T_12c8d_row39_col2\" class=\"data row39 col2\" >96.2%</td>\n",
       "            </tr>\n",
       "            <tr>\n",
       "                        <th id=\"T_12c8d_level0_row40\" class=\"row_heading level0 row40\" >40</th>\n",
       "                        <td id=\"T_12c8d_row40_col0\" class=\"data row40 col0\" >d_essentials</td>\n",
       "                        <td id=\"T_12c8d_row40_col1\" class=\"data row40 col1\" >0.3%</td>\n",
       "                        <td id=\"T_12c8d_row40_col2\" class=\"data row40 col2\" >96.5%</td>\n",
       "            </tr>\n",
       "            <tr>\n",
       "                        <th id=\"T_12c8d_level0_row41\" class=\"row_heading level0 row41\" >41</th>\n",
       "                        <td id=\"T_12c8d_row41_col0\" class=\"data row41 col0\" >d_breakfast</td>\n",
       "                        <td id=\"T_12c8d_row41_col1\" class=\"data row41 col1\" >0.2%</td>\n",
       "                        <td id=\"T_12c8d_row41_col2\" class=\"data row41 col2\" >96.7%</td>\n",
       "            </tr>\n",
       "            <tr>\n",
       "                        <th id=\"T_12c8d_level0_row42\" class=\"row_heading level0 row42\" >42</th>\n",
       "                        <td id=\"T_12c8d_row42_col0\" class=\"data row42 col0\" >d_smokingallowed</td>\n",
       "                        <td id=\"T_12c8d_row42_col1\" class=\"data row42 col1\" >0.2%</td>\n",
       "                        <td id=\"T_12c8d_row42_col2\" class=\"data row42 col2\" >96.9%</td>\n",
       "            </tr>\n",
       "            <tr>\n",
       "                        <th id=\"T_12c8d_level0_row43\" class=\"row_heading level0 row43\" >43</th>\n",
       "                        <td id=\"T_12c8d_row43_col0\" class=\"data row43 col0\" >d_doorman</td>\n",
       "                        <td id=\"T_12c8d_row43_col1\" class=\"data row43 col1\" >0.2%</td>\n",
       "                        <td id=\"T_12c8d_row43_col2\" class=\"data row43 col2\" >97.1%</td>\n",
       "            </tr>\n",
       "            <tr>\n",
       "                        <th id=\"T_12c8d_level0_row44\" class=\"row_heading level0 row44\" >44</th>\n",
       "                        <td id=\"T_12c8d_row44_col0\" class=\"data row44 col0\" >d_petsallowed</td>\n",
       "                        <td id=\"T_12c8d_row44_col1\" class=\"data row44 col1\" >0.1%</td>\n",
       "                        <td id=\"T_12c8d_row44_col2\" class=\"data row44 col2\" >97.2%</td>\n",
       "            </tr>\n",
       "            <tr>\n",
       "                        <th id=\"T_12c8d_level0_row45\" class=\"row_heading level0 row45\" >45</th>\n",
       "                        <td id=\"T_12c8d_row45_col0\" class=\"data row45 col0\" >d_wheelchairaccessible</td>\n",
       "                        <td id=\"T_12c8d_row45_col1\" class=\"data row45 col1\" >0.1%</td>\n",
       "                        <td id=\"T_12c8d_row45_col2\" class=\"data row45 col2\" >97.4%</td>\n",
       "            </tr>\n",
       "            <tr>\n",
       "                        <th id=\"T_12c8d_level0_row46\" class=\"row_heading level0 row46\" >46</th>\n",
       "                        <td id=\"T_12c8d_row46_col0\" class=\"data row46 col0\" >d_wirelessinternet</td>\n",
       "                        <td id=\"T_12c8d_row46_col1\" class=\"data row46 col1\" >0.1%</td>\n",
       "                        <td id=\"T_12c8d_row46_col2\" class=\"data row46 col2\" >97.5%</td>\n",
       "            </tr>\n",
       "            <tr>\n",
       "                        <th id=\"T_12c8d_level0_row47\" class=\"row_heading level0 row47\" >47</th>\n",
       "                        <td id=\"T_12c8d_row47_col0\" class=\"data row47 col0\" >d_petsliveonthisproperty</td>\n",
       "                        <td id=\"T_12c8d_row47_col1\" class=\"data row47 col1\" >0.1%</td>\n",
       "                        <td id=\"T_12c8d_row47_col2\" class=\"data row47 col2\" >97.6%</td>\n",
       "            </tr>\n",
       "            <tr>\n",
       "                        <th id=\"T_12c8d_level0_row48\" class=\"row_heading level0 row48\" >48</th>\n",
       "                        <td id=\"T_12c8d_row48_col0\" class=\"data row48 col0\" >d_kitchen</td>\n",
       "                        <td id=\"T_12c8d_row48_col1\" class=\"data row48 col1\" >0.1%</td>\n",
       "                        <td id=\"T_12c8d_row48_col2\" class=\"data row48 col2\" >97.8%</td>\n",
       "            </tr>\n",
       "            <tr>\n",
       "                        <th id=\"T_12c8d_level0_row49\" class=\"row_heading level0 row49\" >49</th>\n",
       "                        <td id=\"T_12c8d_row49_col0\" class=\"data row49 col0\" >d_hottub</td>\n",
       "                        <td id=\"T_12c8d_row49_col1\" class=\"data row49 col1\" >0.1%</td>\n",
       "                        <td id=\"T_12c8d_row49_col2\" class=\"data row49 col2\" >97.9%</td>\n",
       "            </tr>\n",
       "            <tr>\n",
       "                        <th id=\"T_12c8d_level0_row50\" class=\"row_heading level0 row50\" >50</th>\n",
       "                        <td id=\"T_12c8d_row50_col0\" class=\"data row50 col0\" >f_neighbourhood_cleansed[T.City of London]</td>\n",
       "                        <td id=\"T_12c8d_row50_col1\" class=\"data row50 col1\" >0.1%</td>\n",
       "                        <td id=\"T_12c8d_row50_col2\" class=\"data row50 col2\" >98.0%</td>\n",
       "            </tr>\n",
       "            <tr>\n",
       "                        <th id=\"T_12c8d_level0_row51\" class=\"row_heading level0 row51\" >51</th>\n",
       "                        <td id=\"T_12c8d_row51_col0\" class=\"data row51 col0\" >d_pool</td>\n",
       "                        <td id=\"T_12c8d_row51_col1\" class=\"data row51 col1\" >0.1%</td>\n",
       "                        <td id=\"T_12c8d_row51_col2\" class=\"data row51 col2\" >98.2%</td>\n",
       "            </tr>\n",
       "            <tr>\n",
       "                        <th id=\"T_12c8d_level0_row52\" class=\"row_heading level0 row52\" >52</th>\n",
       "                        <td id=\"T_12c8d_row52_col0\" class=\"data row52 col0\" >d_heating</td>\n",
       "                        <td id=\"T_12c8d_row52_col1\" class=\"data row52 col1\" >0.1%</td>\n",
       "                        <td id=\"T_12c8d_row52_col2\" class=\"data row52 col2\" >98.3%</td>\n",
       "            </tr>\n",
       "            <tr>\n",
       "                        <th id=\"T_12c8d_level0_row53\" class=\"row_heading level0 row53\" >53</th>\n",
       "                        <td id=\"T_12c8d_row53_col0\" class=\"data row53 col0\" >f_neighbourhood_cleansed[T.Lewisham]</td>\n",
       "                        <td id=\"T_12c8d_row53_col1\" class=\"data row53 col1\" >0.1%</td>\n",
       "                        <td id=\"T_12c8d_row53_col2\" class=\"data row53 col2\" >98.4%</td>\n",
       "            </tr>\n",
       "            <tr>\n",
       "                        <th id=\"T_12c8d_level0_row54\" class=\"row_heading level0 row54\" >54</th>\n",
       "                        <td id=\"T_12c8d_row54_col0\" class=\"data row54 col0\" >f_neighbourhood_cleansed[T.Islington]</td>\n",
       "                        <td id=\"T_12c8d_row54_col1\" class=\"data row54 col1\" >0.1%</td>\n",
       "                        <td id=\"T_12c8d_row54_col2\" class=\"data row54 col2\" >98.5%</td>\n",
       "            </tr>\n",
       "            <tr>\n",
       "                        <th id=\"T_12c8d_level0_row55\" class=\"row_heading level0 row55\" >55</th>\n",
       "                        <td id=\"T_12c8d_row55_col0\" class=\"data row55 col0\" >f_neighbourhood_cleansed[T.Hackney]</td>\n",
       "                        <td id=\"T_12c8d_row55_col1\" class=\"data row55 col1\" >0.1%</td>\n",
       "                        <td id=\"T_12c8d_row55_col2\" class=\"data row55 col2\" >98.6%</td>\n",
       "            </tr>\n",
       "            <tr>\n",
       "                        <th id=\"T_12c8d_level0_row56\" class=\"row_heading level0 row56\" >56</th>\n",
       "                        <td id=\"T_12c8d_row56_col0\" class=\"data row56 col0\" >d_suitableforevents</td>\n",
       "                        <td id=\"T_12c8d_row56_col1\" class=\"data row56 col1\" >0.1%</td>\n",
       "                        <td id=\"T_12c8d_row56_col2\" class=\"data row56 col2\" >98.7%</td>\n",
       "            </tr>\n",
       "            <tr>\n",
       "                        <th id=\"T_12c8d_level0_row57\" class=\"row_heading level0 row57\" >57</th>\n",
       "                        <td id=\"T_12c8d_row57_col0\" class=\"data row57 col0\" >d_privateentrance</td>\n",
       "                        <td id=\"T_12c8d_row57_col1\" class=\"data row57 col1\" >0.1%</td>\n",
       "                        <td id=\"T_12c8d_row57_col2\" class=\"data row57 col2\" >98.8%</td>\n",
       "            </tr>\n",
       "            <tr>\n",
       "                        <th id=\"T_12c8d_level0_row58\" class=\"row_heading level0 row58\" >58</th>\n",
       "                        <td id=\"T_12c8d_row58_col0\" class=\"data row58 col0\" >f_neighbourhood_cleansed[T.Richmond upon Thames]</td>\n",
       "                        <td id=\"T_12c8d_row58_col1\" class=\"data row58 col1\" >0.1%</td>\n",
       "                        <td id=\"T_12c8d_row58_col2\" class=\"data row58 col2\" >98.9%</td>\n",
       "            </tr>\n",
       "            <tr>\n",
       "                        <th id=\"T_12c8d_level0_row59\" class=\"row_heading level0 row59\" >59</th>\n",
       "                        <td id=\"T_12c8d_row59_col0\" class=\"data row59 col0\" >d_gym</td>\n",
       "                        <td id=\"T_12c8d_row59_col1\" class=\"data row59 col1\" >0.1%</td>\n",
       "                        <td id=\"T_12c8d_row59_col2\" class=\"data row59 col2\" >99.0%</td>\n",
       "            </tr>\n",
       "            <tr>\n",
       "                        <th id=\"T_12c8d_level0_row60\" class=\"row_heading level0 row60\" >60</th>\n",
       "                        <td id=\"T_12c8d_row60_col0\" class=\"data row60 col0\" >f_neighbourhood_cleansed[T.Hammersmith and Fulham]</td>\n",
       "                        <td id=\"T_12c8d_row60_col1\" class=\"data row60 col1\" >0.1%</td>\n",
       "                        <td id=\"T_12c8d_row60_col2\" class=\"data row60 col2\" >99.1%</td>\n",
       "            </tr>\n",
       "            <tr>\n",
       "                        <th id=\"T_12c8d_level0_row61\" class=\"row_heading level0 row61\" >61</th>\n",
       "                        <td id=\"T_12c8d_row61_col0\" class=\"data row61 col0\" >d_selfcheckin</td>\n",
       "                        <td id=\"T_12c8d_row61_col1\" class=\"data row61 col1\" >0.1%</td>\n",
       "                        <td id=\"T_12c8d_row61_col2\" class=\"data row61 col2\" >99.1%</td>\n",
       "            </tr>\n",
       "            <tr>\n",
       "                        <th id=\"T_12c8d_level0_row62\" class=\"row_heading level0 row62\" >62</th>\n",
       "                        <td id=\"T_12c8d_row62_col0\" class=\"data row62 col0\" >f_neighbourhood_cleansed[T.Southwark]</td>\n",
       "                        <td id=\"T_12c8d_row62_col1\" class=\"data row62 col1\" >0.1%</td>\n",
       "                        <td id=\"T_12c8d_row62_col2\" class=\"data row62 col2\" >99.2%</td>\n",
       "            </tr>\n",
       "            <tr>\n",
       "                        <th id=\"T_12c8d_level0_row63\" class=\"row_heading level0 row63\" >63</th>\n",
       "                        <td id=\"T_12c8d_row63_col0\" class=\"data row63 col0\" >f_neighbourhood_cleansed[T.Waltham Forest]</td>\n",
       "                        <td id=\"T_12c8d_row63_col1\" class=\"data row63 col1\" >0.1%</td>\n",
       "                        <td id=\"T_12c8d_row63_col2\" class=\"data row63 col2\" >99.3%</td>\n",
       "            </tr>\n",
       "            <tr>\n",
       "                        <th id=\"T_12c8d_level0_row64\" class=\"row_heading level0 row64\" >64</th>\n",
       "                        <td id=\"T_12c8d_row64_col0\" class=\"data row64 col0\" >f_neighbourhood_cleansed[T.Wandsworth]</td>\n",
       "                        <td id=\"T_12c8d_row64_col1\" class=\"data row64 col1\" >0.1%</td>\n",
       "                        <td id=\"T_12c8d_row64_col2\" class=\"data row64 col2\" >99.4%</td>\n",
       "            </tr>\n",
       "            <tr>\n",
       "                        <th id=\"T_12c8d_level0_row65\" class=\"row_heading level0 row65\" >65</th>\n",
       "                        <td id=\"T_12c8d_row65_col0\" class=\"data row65 col0\" >f_neighbourhood_cleansed[T.Lambeth]</td>\n",
       "                        <td id=\"T_12c8d_row65_col1\" class=\"data row65 col1\" >0.1%</td>\n",
       "                        <td id=\"T_12c8d_row65_col2\" class=\"data row65 col2\" >99.5%</td>\n",
       "            </tr>\n",
       "            <tr>\n",
       "                        <th id=\"T_12c8d_level0_row66\" class=\"row_heading level0 row66\" >66</th>\n",
       "                        <td id=\"T_12c8d_row66_col0\" class=\"data row66 col0\" >f_neighbourhood_cleansed[T.Ealing]</td>\n",
       "                        <td id=\"T_12c8d_row66_col1\" class=\"data row66 col1\" >0.1%</td>\n",
       "                        <td id=\"T_12c8d_row66_col2\" class=\"data row66 col2\" >99.5%</td>\n",
       "            </tr>\n",
       "            <tr>\n",
       "                        <th id=\"T_12c8d_level0_row67\" class=\"row_heading level0 row67\" >67</th>\n",
       "                        <td id=\"T_12c8d_row67_col0\" class=\"data row67 col0\" >d_lockbox</td>\n",
       "                        <td id=\"T_12c8d_row67_col1\" class=\"data row67 col1\" >0.1%</td>\n",
       "                        <td id=\"T_12c8d_row67_col2\" class=\"data row67 col2\" >99.6%</td>\n",
       "            </tr>\n",
       "            <tr>\n",
       "                        <th id=\"T_12c8d_level0_row68\" class=\"row_heading level0 row68\" >68</th>\n",
       "                        <td id=\"T_12c8d_row68_col0\" class=\"data row68 col0\" >f_neighbourhood_cleansed[T.Merton]</td>\n",
       "                        <td id=\"T_12c8d_row68_col1\" class=\"data row68 col1\" >0.1%</td>\n",
       "                        <td id=\"T_12c8d_row68_col2\" class=\"data row68 col2\" >99.6%</td>\n",
       "            </tr>\n",
       "            <tr>\n",
       "                        <th id=\"T_12c8d_level0_row69\" class=\"row_heading level0 row69\" >69</th>\n",
       "                        <td id=\"T_12c8d_row69_col0\" class=\"data row69 col0\" >f_neighbourhood_cleansed[T.Brent]</td>\n",
       "                        <td id=\"T_12c8d_row69_col1\" class=\"data row69 col1\" >0.0%</td>\n",
       "                        <td id=\"T_12c8d_row69_col2\" class=\"data row69 col2\" >99.7%</td>\n",
       "            </tr>\n",
       "            <tr>\n",
       "                        <th id=\"T_12c8d_level0_row70\" class=\"row_heading level0 row70\" >70</th>\n",
       "                        <td id=\"T_12c8d_row70_col0\" class=\"data row70 col0\" >f_neighbourhood_cleansed[T.Haringey]</td>\n",
       "                        <td id=\"T_12c8d_row70_col1\" class=\"data row70 col1\" >0.0%</td>\n",
       "                        <td id=\"T_12c8d_row70_col2\" class=\"data row70 col2\" >99.7%</td>\n",
       "            </tr>\n",
       "            <tr>\n",
       "                        <th id=\"T_12c8d_level0_row71\" class=\"row_heading level0 row71\" >71</th>\n",
       "                        <td id=\"T_12c8d_row71_col0\" class=\"data row71 col0\" >d_cats</td>\n",
       "                        <td id=\"T_12c8d_row71_col1\" class=\"data row71 col1\" >0.0%</td>\n",
       "                        <td id=\"T_12c8d_row71_col2\" class=\"data row71 col2\" >99.8%</td>\n",
       "            </tr>\n",
       "            <tr>\n",
       "                        <th id=\"T_12c8d_level0_row72\" class=\"row_heading level0 row72\" >72</th>\n",
       "                        <td id=\"T_12c8d_row72_col0\" class=\"data row72 col0\" >f_bed_type[T.Real Bed]</td>\n",
       "                        <td id=\"T_12c8d_row72_col1\" class=\"data row72 col1\" >0.0%</td>\n",
       "                        <td id=\"T_12c8d_row72_col2\" class=\"data row72 col2\" >99.8%</td>\n",
       "            </tr>\n",
       "            <tr>\n",
       "                        <th id=\"T_12c8d_level0_row73\" class=\"row_heading level0 row73\" >73</th>\n",
       "                        <td id=\"T_12c8d_row73_col0\" class=\"data row73 col0\" >f_neighbourhood_cleansed[T.Newham]</td>\n",
       "                        <td id=\"T_12c8d_row73_col1\" class=\"data row73 col1\" >0.0%</td>\n",
       "                        <td id=\"T_12c8d_row73_col2\" class=\"data row73 col2\" >99.8%</td>\n",
       "            </tr>\n",
       "            <tr>\n",
       "                        <th id=\"T_12c8d_level0_row74\" class=\"row_heading level0 row74\" >74</th>\n",
       "                        <td id=\"T_12c8d_row74_col0\" class=\"data row74 col0\" >f_neighbourhood_cleansed[T.Barnet]</td>\n",
       "                        <td id=\"T_12c8d_row74_col1\" class=\"data row74 col1\" >0.0%</td>\n",
       "                        <td id=\"T_12c8d_row74_col2\" class=\"data row74 col2\" >99.9%</td>\n",
       "            </tr>\n",
       "            <tr>\n",
       "                        <th id=\"T_12c8d_level0_row75\" class=\"row_heading level0 row75\" >75</th>\n",
       "                        <td id=\"T_12c8d_row75_col0\" class=\"data row75 col0\" >d_washerdryer</td>\n",
       "                        <td id=\"T_12c8d_row75_col1\" class=\"data row75 col1\" >0.0%</td>\n",
       "                        <td id=\"T_12c8d_row75_col2\" class=\"data row75 col2\" >99.9%</td>\n",
       "            </tr>\n",
       "            <tr>\n",
       "                        <th id=\"T_12c8d_level0_row76\" class=\"row_heading level0 row76\" >76</th>\n",
       "                        <td id=\"T_12c8d_row76_col0\" class=\"data row76 col0\" >f_neighbourhood_cleansed[T.Redbridge]</td>\n",
       "                        <td id=\"T_12c8d_row76_col1\" class=\"data row76 col1\" >0.0%</td>\n",
       "                        <td id=\"T_12c8d_row76_col2\" class=\"data row76 col2\" >99.9%</td>\n",
       "            </tr>\n",
       "            <tr>\n",
       "                        <th id=\"T_12c8d_level0_row77\" class=\"row_heading level0 row77\" >77</th>\n",
       "                        <td id=\"T_12c8d_row77_col0\" class=\"data row77 col0\" >f_neighbourhood_cleansed[T.Greenwich]</td>\n",
       "                        <td id=\"T_12c8d_row77_col1\" class=\"data row77 col1\" >0.0%</td>\n",
       "                        <td id=\"T_12c8d_row77_col2\" class=\"data row77 col2\" >99.9%</td>\n",
       "            </tr>\n",
       "            <tr>\n",
       "                        <th id=\"T_12c8d_level0_row78\" class=\"row_heading level0 row78\" >78</th>\n",
       "                        <td id=\"T_12c8d_row78_col0\" class=\"data row78 col0\" >d_dogs</td>\n",
       "                        <td id=\"T_12c8d_row78_col1\" class=\"data row78 col1\" >0.0%</td>\n",
       "                        <td id=\"T_12c8d_row78_col2\" class=\"data row78 col2\" >99.9%</td>\n",
       "            </tr>\n",
       "            <tr>\n",
       "                        <th id=\"T_12c8d_level0_row79\" class=\"row_heading level0 row79\" >79</th>\n",
       "                        <td id=\"T_12c8d_row79_col0\" class=\"data row79 col0\" >f_neighbourhood_cleansed[T.Croydon]</td>\n",
       "                        <td id=\"T_12c8d_row79_col1\" class=\"data row79 col1\" >0.0%</td>\n",
       "                        <td id=\"T_12c8d_row79_col2\" class=\"data row79 col2\" >100.0%</td>\n",
       "            </tr>\n",
       "            <tr>\n",
       "                        <th id=\"T_12c8d_level0_row80\" class=\"row_heading level0 row80\" >80</th>\n",
       "                        <td id=\"T_12c8d_row80_col0\" class=\"data row80 col0\" >f_neighbourhood_cleansed[T.Hounslow]</td>\n",
       "                        <td id=\"T_12c8d_row80_col1\" class=\"data row80 col1\" >0.0%</td>\n",
       "                        <td id=\"T_12c8d_row80_col2\" class=\"data row80 col2\" >100.0%</td>\n",
       "            </tr>\n",
       "            <tr>\n",
       "                        <th id=\"T_12c8d_level0_row81\" class=\"row_heading level0 row81\" >81</th>\n",
       "                        <td id=\"T_12c8d_row81_col0\" class=\"data row81 col0\" >d_privatelivingroom</td>\n",
       "                        <td id=\"T_12c8d_row81_col1\" class=\"data row81 col1\" >0.0%</td>\n",
       "                        <td id=\"T_12c8d_row81_col2\" class=\"data row81 col2\" >100.0%</td>\n",
       "            </tr>\n",
       "            <tr>\n",
       "                        <th id=\"T_12c8d_level0_row82\" class=\"row_heading level0 row82\" >82</th>\n",
       "                        <td id=\"T_12c8d_row82_col0\" class=\"data row82 col0\" >f_neighbourhood_cleansed[T.Bromley]</td>\n",
       "                        <td id=\"T_12c8d_row82_col1\" class=\"data row82 col1\" >0.0%</td>\n",
       "                        <td id=\"T_12c8d_row82_col2\" class=\"data row82 col2\" >100.0%</td>\n",
       "            </tr>\n",
       "            <tr>\n",
       "                        <th id=\"T_12c8d_level0_row83\" class=\"row_heading level0 row83\" >83</th>\n",
       "                        <td id=\"T_12c8d_row83_col0\" class=\"data row83 col0\" >f_neighbourhood_cleansed[T.Hillingdon]</td>\n",
       "                        <td id=\"T_12c8d_row83_col1\" class=\"data row83 col1\" >0.0%</td>\n",
       "                        <td id=\"T_12c8d_row83_col2\" class=\"data row83 col2\" >100.0%</td>\n",
       "            </tr>\n",
       "            <tr>\n",
       "                        <th id=\"T_12c8d_level0_row84\" class=\"row_heading level0 row84\" >84</th>\n",
       "                        <td id=\"T_12c8d_row84_col0\" class=\"data row84 col0\" >d_doormanentry</td>\n",
       "                        <td id=\"T_12c8d_row84_col1\" class=\"data row84 col1\" >0.0%</td>\n",
       "                        <td id=\"T_12c8d_row84_col2\" class=\"data row84 col2\" >100.0%</td>\n",
       "            </tr>\n",
       "            <tr>\n",
       "                        <th id=\"T_12c8d_level0_row85\" class=\"row_heading level0 row85\" >85</th>\n",
       "                        <td id=\"T_12c8d_row85_col0\" class=\"data row85 col0\" >f_neighbourhood_cleansed[T.Enfield]</td>\n",
       "                        <td id=\"T_12c8d_row85_col1\" class=\"data row85 col1\" >0.0%</td>\n",
       "                        <td id=\"T_12c8d_row85_col2\" class=\"data row85 col2\" >100.0%</td>\n",
       "            </tr>\n",
       "            <tr>\n",
       "                        <th id=\"T_12c8d_level0_row86\" class=\"row_heading level0 row86\" >86</th>\n",
       "                        <td id=\"T_12c8d_row86_col0\" class=\"data row86 col0\" >d_keypad</td>\n",
       "                        <td id=\"T_12c8d_row86_col1\" class=\"data row86 col1\" >0.0%</td>\n",
       "                        <td id=\"T_12c8d_row86_col2\" class=\"data row86 col2\" >100.0%</td>\n",
       "            </tr>\n",
       "            <tr>\n",
       "                        <th id=\"T_12c8d_level0_row87\" class=\"row_heading level0 row87\" >87</th>\n",
       "                        <td id=\"T_12c8d_row87_col0\" class=\"data row87 col0\" >f_neighbourhood_cleansed[T.Bexley]</td>\n",
       "                        <td id=\"T_12c8d_row87_col1\" class=\"data row87 col1\" >0.0%</td>\n",
       "                        <td id=\"T_12c8d_row87_col2\" class=\"data row87 col2\" >100.0%</td>\n",
       "            </tr>\n",
       "            <tr>\n",
       "                        <th id=\"T_12c8d_level0_row88\" class=\"row_heading level0 row88\" >88</th>\n",
       "                        <td id=\"T_12c8d_row88_col0\" class=\"data row88 col0\" >f_neighbourhood_cleansed[T.Harrow]</td>\n",
       "                        <td id=\"T_12c8d_row88_col1\" class=\"data row88 col1\" >0.0%</td>\n",
       "                        <td id=\"T_12c8d_row88_col2\" class=\"data row88 col2\" >100.0%</td>\n",
       "            </tr>\n",
       "            <tr>\n",
       "                        <th id=\"T_12c8d_level0_row89\" class=\"row_heading level0 row89\" >89</th>\n",
       "                        <td id=\"T_12c8d_row89_col0\" class=\"data row89 col0\" >f_neighbourhood_cleansed[T.Kingston upon Thames]</td>\n",
       "                        <td id=\"T_12c8d_row89_col1\" class=\"data row89 col1\" >0.0%</td>\n",
       "                        <td id=\"T_12c8d_row89_col2\" class=\"data row89 col2\" >100.0%</td>\n",
       "            </tr>\n",
       "            <tr>\n",
       "                        <th id=\"T_12c8d_level0_row90\" class=\"row_heading level0 row90\" >90</th>\n",
       "                        <td id=\"T_12c8d_row90_col0\" class=\"data row90 col0\" >d_smartlock</td>\n",
       "                        <td id=\"T_12c8d_row90_col1\" class=\"data row90 col1\" >0.0%</td>\n",
       "                        <td id=\"T_12c8d_row90_col2\" class=\"data row90 col2\" >100.0%</td>\n",
       "            </tr>\n",
       "            <tr>\n",
       "                        <th id=\"T_12c8d_level0_row91\" class=\"row_heading level0 row91\" >91</th>\n",
       "                        <td id=\"T_12c8d_row91_col0\" class=\"data row91 col0\" >d_otherpets</td>\n",
       "                        <td id=\"T_12c8d_row91_col1\" class=\"data row91 col1\" >0.0%</td>\n",
       "                        <td id=\"T_12c8d_row91_col2\" class=\"data row91 col2\" >100.0%</td>\n",
       "            </tr>\n",
       "            <tr>\n",
       "                        <th id=\"T_12c8d_level0_row92\" class=\"row_heading level0 row92\" >92</th>\n",
       "                        <td id=\"T_12c8d_row92_col0\" class=\"data row92 col0\" >f_neighbourhood_cleansed[T.Sutton]</td>\n",
       "                        <td id=\"T_12c8d_row92_col1\" class=\"data row92 col1\" >0.0%</td>\n",
       "                        <td id=\"T_12c8d_row92_col2\" class=\"data row92 col2\" >100.0%</td>\n",
       "            </tr>\n",
       "            <tr>\n",
       "                        <th id=\"T_12c8d_level0_row93\" class=\"row_heading level0 row93\" >93</th>\n",
       "                        <td id=\"T_12c8d_row93_col0\" class=\"data row93 col0\" >f_neighbourhood_cleansed[T.Havering]</td>\n",
       "                        <td id=\"T_12c8d_row93_col1\" class=\"data row93 col1\" >0.0%</td>\n",
       "                        <td id=\"T_12c8d_row93_col2\" class=\"data row93 col2\" >100.0%</td>\n",
       "            </tr>\n",
       "            <tr>\n",
       "                        <th id=\"T_12c8d_level0_row94\" class=\"row_heading level0 row94\" >94</th>\n",
       "                        <td id=\"T_12c8d_row94_col0\" class=\"data row94 col0\" >d_freeparkingonstreet</td>\n",
       "                        <td id=\"T_12c8d_row94_col1\" class=\"data row94 col1\" >0.0%</td>\n",
       "                        <td id=\"T_12c8d_row94_col2\" class=\"data row94 col2\" >100.0%</td>\n",
       "            </tr>\n",
       "            <tr>\n",
       "                        <th id=\"T_12c8d_level0_row95\" class=\"row_heading level0 row95\" >95</th>\n",
       "                        <td id=\"T_12c8d_row95_col0\" class=\"data row95 col0\" >d_paidparkingoffpremises</td>\n",
       "                        <td id=\"T_12c8d_row95_col1\" class=\"data row95 col1\" >0.0%</td>\n",
       "                        <td id=\"T_12c8d_row95_col2\" class=\"data row95 col2\" >100.0%</td>\n",
       "            </tr>\n",
       "            <tr>\n",
       "                        <th id=\"T_12c8d_level0_row96\" class=\"row_heading level0 row96\" >96</th>\n",
       "                        <td id=\"T_12c8d_row96_col0\" class=\"data row96 col0\" >Intercept</td>\n",
       "                        <td id=\"T_12c8d_row96_col1\" class=\"data row96 col1\" >0.0%</td>\n",
       "                        <td id=\"T_12c8d_row96_col2\" class=\"data row96 col2\" >100.0%</td>\n",
       "            </tr>\n",
       "    </tbody></table>"
      ],
      "text/plain": [
       "<pandas.io.formats.style.Styler at 0x7f9f16026190>"
      ]
     },
     "execution_count": 41,
     "metadata": {},
     "output_type": "execute_result"
    }
   ],
   "source": [
    "df_var_imp.style.format({\n",
    "    'imp': lambda x: f'{x:,.1%}',\n",
    "    'cumulative_imp': lambda x: f'{x:,.1%}'})"
   ]
  },
  {
   "cell_type": "markdown",
   "metadata": {},
   "source": [
    "<br> \n",
    "\n",
    "Plotting var imp per se results in a nasty chart."
   ]
  },
  {
   "cell_type": "code",
   "execution_count": 42,
   "metadata": {},
   "outputs": [
    {
     "data": {
      "image/png": "[encoded data removed]",
      "text/plain": [
       "<Figure size 720x720 with 1 Axes>"
      ]
     },
     "metadata": {
      "needs_background": "light"
     },
     "output_type": "display_data"
    }
   ],
   "source": [
    "df_var_imp\\\n",
    "    .sort_values(by = 'imp')\\\n",
    "    .plot(kind = 'barh', \n",
    "          x = 'variable', y = 'imp', \n",
    "          figsize = (10,10), grid = True, \n",
    "          title = 'Random forest model highest feature importances', \n",
    "          xlabel = 'variables', legend = False\n",
    "         );"
   ]
  },
  {
   "cell_type": "code",
   "execution_count": 43,
   "metadata": {},
   "outputs": [],
   "source": [
    "# we only care for variables with an importance of more than 1 pct\n",
    "cutoff = 0.01"
   ]
  },
  {
   "cell_type": "code",
   "execution_count": 44,
   "metadata": {},
   "outputs": [
    {
     "data": {
      "image/png": "[encoded data removed]",
      "text/plain": [
       "<Figure size 720x432 with 1 Axes>"
      ]
     },
     "metadata": {
      "needs_background": "light"
     },
     "output_type": "display_data"
    }
   ],
   "source": [
    "df_var_imp[df_var_imp.imp > cutoff]\\\n",
    "    .sort_values(by = 'imp')\\\n",
    "    .plot(kind = 'barh', \n",
    "          x = 'variable', y = 'imp', \n",
    "          figsize = (10,6), grid = True, \n",
    "          title = 'Random forest model highest feature importances', \n",
    "          xlabel = 'variables', legend = False\n",
    "         );"
   ]
  },
  {
   "cell_type": "markdown",
   "metadata": {},
   "source": [
    "***grouped variable importance - keep binaries created off factors together***\n",
    "\n",
    "For this, you need to create an `sklearn` Pipeline inclduing `OneHotEncoding` (before, encoding was done by patsy's `dmatrices`). This way permutation_importance can calculate factor variables' importance "
   ]
  },
  {
   "cell_type": "code",
   "execution_count": null,
   "metadata": {},
   "outputs": [],
   "source": [
    "categorical_columns = [col for col in predictors_2 if col.startswith(\"f_\")]\n",
    "numerical_columns = [col for col in predictors_2 if col not in categorical_columns]"
   ]
  },
  {
   "cell_type": "code",
   "execution_count": null,
   "metadata": {},
   "outputs": [],
   "source": [
    "categorical_encoder = OneHotEncoder(handle_unknown=\"ignore\")\n",
    "\n",
    "preprocessing = ColumnTransformer([\n",
    "    (\"cat\", categorical_encoder, categorical_columns),\n",
    "    (\"num\", \"passthrough\", numerical_columns)])\n",
    "\n",
    "rf = Pipeline(\n",
    "    [(\"preprocess\", preprocessing), \n",
    "     (\"regressor\", rf_model.best_estimator_)] # put best model to pipeline\n",
    ")"
   ]
  },
  {
   "cell_type": "code",
   "execution_count": null,
   "metadata": {},
   "outputs": [],
   "source": [
    "rf.fit(data_train[predictors_2],data_train.price)"
   ]
  },
  {
   "cell_type": "markdown",
   "metadata": {},
   "source": [
    "Permutation feature importance overcomes limitations of the impurity-based feature importance: they do not have a bias toward high-cardinality features and can be computed on a left-out test set."
   ]
  },
  {
   "cell_type": "code",
   "execution_count": null,
   "metadata": {},
   "outputs": [],
   "source": [
    "%%time\n",
    "result = permutation_importance(\n",
    "    rf,\n",
    "    data_holdout[predictors_2],\n",
    "    data_holdout.price,\n",
    "    n_repeats=10,\n",
    "    random_state=45,\n",
    ")"
   ]
  },
  {
   "cell_type": "code",
   "execution_count": null,
   "metadata": {},
   "outputs": [],
   "source": [
    "result"
   ]
  },
  {
   "cell_type": "code",
   "execution_count": null,
   "metadata": {},
   "outputs": [],
   "source": [
    "pd.DataFrame(\n",
    "        result.importances_mean,\n",
    "        data_train[predictors_2].columns)"
   ]
  },
  {
   "cell_type": "code",
   "execution_count": null,
   "metadata": {},
   "outputs": [],
   "source": [
    "grouped = [\n",
    "    \"f_bed_type\",\n",
    "    \"f_property_type\",\n",
    "    \"f_room_type\",\n",
    "    \"f_bathroom\",\n",
    "    \"n_days_since\",\n",
    "    \"n_accommodates\",\n",
    "    \"n_beds\",\n",
    "    \"f_neighbourhood_cleansed\",\n",
    "    \"f_cancellation_policy\",\n",
    "]"
   ]
  },
  {
   "cell_type": "code",
   "execution_count": null,
   "metadata": {},
   "outputs": [],
   "source": [
    "df_grouped_var_imp = pd.DataFrame(\n",
    "        result.importances_mean,\n",
    "        data_train[predictors_2].columns)\\\n",
    "    .loc[grouped]\\\n",
    "    .sort_values(by = 0, ascending = False)\\\n",
    "    .reset_index()\\\n",
    "    .rename({'index': 'variable', 0: 'imp'}, axis = 1)\n",
    "df_grouped_var_imp['cumulative_imp'] = df_grouped_var_imp.imp.cumsum()"
   ]
  },
  {
   "cell_type": "code",
   "execution_count": null,
   "metadata": {},
   "outputs": [],
   "source": [
    "df_grouped_var_imp.style.format({\n",
    "    'imp': lambda x: f'{x:,.1%}',\n",
    "    'cumulative_imp': lambda x: f'{x:,.1%}'})"
   ]
  },
  {
   "cell_type": "code",
   "execution_count": null,
   "metadata": {},
   "outputs": [],
   "source": [
    "df_grouped_var_imp\\\n",
    "    .sort_values(by = 'imp')\\\n",
    "    .plot(kind = 'barh', \n",
    "          x = 'variable', y = 'imp', \n",
    "          figsize = (10,6), grid = True, \n",
    "          title = 'Random forest model grouped feature importances', \n",
    "          xlabel = 'variables', legend = False\n",
    "         );"
   ]
  },
  {
   "cell_type": "code",
   "execution_count": null,
   "metadata": {},
   "outputs": [],
   "source": [
    "df_clean_varimp = pd.DataFrame(\n",
    "        result.importances_mean,\n",
    "        data_train[predictors_2].columns)\\\n",
    "    .sort_values(by = 0, ascending = False)\\\n",
    "    .reset_index()\\\n",
    "    .rename({'index': 'variable', 0: 'imp'}, axis = 1)\n",
    "\n",
    "df_clean_varimp['cumulative_imp'] = df_var_imp['imp'].cumsum()\n",
    "df_clean_varimp[df_clean_varimp.cumulative_imp < 0.91]"
   ]
  },
  {
   "cell_type": "code",
   "execution_count": null,
   "metadata": {},
   "outputs": [],
   "source": [
    "df_clean_varimp.iloc[0:10]\\\n",
    "    .sort_values(by = 'imp')\\\n",
    "    .plot(kind = 'barh', \n",
    "          x = 'variable', y = 'imp', \n",
    "          figsize = (10,6), grid = True, \n",
    "          title = 'Random forest model top 10 feature importances with grouped variables', \n",
    "          xlabel = 'variables', legend = False\n",
    "         );"
   ]
  },
  {
   "cell_type": "markdown",
   "metadata": {},
   "source": [
    "## Partial Dependence Plots \n",
    "-------------------------------------------------------\n"
   ]
  },
  {
   "cell_type": "code",
   "execution_count": null,
   "metadata": {},
   "outputs": [],
   "source": [
    "# Note: easy way, sklearn has plot_partial_dependence function we do this on holdout set!\n",
    "# Also, note that we run it not on the rf_model but on the rf pipeline to manage OneHot_Encoding on the fly.\n",
    "\n",
    "plot_partial_dependence(\n",
    "    rf,\n",
    "    data_holdout[predictors_2],\n",
    "    [\"n_accommodates\"],\n",
    "    feature_names=data_holdout[predictors_2].columns,\n",
    "    line_kw={\"marker\": \"o\", \"color\": 'k'},\n",
    ")\n",
    "\n",
    "plt.grid()\n",
    "plt.ylim(70, 130)\n",
    "plt.show()"
   ]
  },
  {
   "cell_type": "markdown",
   "metadata": {},
   "source": [
    "We can do our pdp plots using Pandas built-in plot method."
   ]
  },
  {
   "cell_type": "code",
   "execution_count": null,
   "metadata": {},
   "outputs": [],
   "source": [
    "accomodates_pdp = partial_dependence(\n",
    "    rf, data_holdout[predictors_2], [\"n_accommodates\"], kind=\"average\"\n",
    ")"
   ]
  },
  {
   "cell_type": "code",
   "execution_count": null,
   "metadata": {},
   "outputs": [],
   "source": [
    "accomodates_pdp"
   ]
  },
  {
   "cell_type": "code",
   "execution_count": null,
   "metadata": {},
   "outputs": [],
   "source": [
    "# We need to access the elements of this complex data structure\n",
    "type(accomodates_pdp)"
   ]
  },
  {
   "cell_type": "code",
   "execution_count": null,
   "metadata": {},
   "outputs": [],
   "source": [
    "pd.DataFrame(\n",
    "    {'number of accomodates': accomodates_pdp['values'][0], \n",
    "     'average price': accomodates_pdp['average'][0]}\n",
    "    )"
   ]
  },
  {
   "cell_type": "code",
   "execution_count": null,
   "metadata": {
    "tags": []
   },
   "outputs": [],
   "source": [
    "pd.DataFrame(\n",
    "    {'number of accomodates': accomodates_pdp['values'][0], \n",
    "     'average price': accomodates_pdp['average'][0]}\n",
    "    ).sort_values(by = 'average price').plot(\n",
    "    kind = 'line', color = 'k', marker = 'o', markersize = 10, linewidth = 0,\n",
    "    figsize = (10,6), legend = False, grid = True,\n",
    "    x = 'number of accomodates', y = 'average price', ylim = (0, 140), \n",
    "    title = 'Partial dependence plot: number of accomodates'\n",
    ");"
   ]
  },
  {
   "cell_type": "code",
   "execution_count": null,
   "metadata": {},
   "outputs": [],
   "source": [
    "roomtype_pdp = partial_dependence(\n",
    "    rf, data_holdout[predictors_2], [\"f_room_type\"], kind=\"average\"\n",
    ")"
   ]
  },
  {
   "cell_type": "code",
   "execution_count": null,
   "metadata": {
    "tags": []
   },
   "outputs": [],
   "source": [
    "pd.DataFrame(\n",
    "    {'room type': roomtype_pdp['values'][0], \n",
    "     'average price': roomtype_pdp['average'][0]}\n",
    "    ).sort_values(by = 'average price').plot(\n",
    "    kind = 'line', color = 'k', marker = 'o', markersize = 10, linewidth = 0,\n",
    "    figsize = (10,6), legend = False, grid = True,\n",
    "    x = 'room type', y = 'average price', ylim = (0, 140), \n",
    "    title = 'Partial dependence plot: room type'\n",
    ");"
   ]
  },
  {
   "cell_type": "markdown",
   "metadata": {},
   "source": [
    "### Subsample performance: RMSE / mean(y) \n",
    "---------------------------------------\n",
    "NOTE  we do this on the holdout set, using the encoding pipeline `rf` again.\n"
   ]
  },
  {
   "cell_type": "code",
   "execution_count": null,
   "metadata": {},
   "outputs": [],
   "source": [
    "data_holdout_w_prediction = data_holdout.assign(\n",
    "    predicted_price=rf.predict(data_holdout[predictors_2])\n",
    ")"
   ]
  },
  {
   "cell_type": "markdown",
   "metadata": {},
   "source": [
    "***Creating tables of heterogeneity by various grouping factors***\n",
    "- apartman size"
   ]
  },
  {
   "cell_type": "markdown",
   "metadata": {},
   "source": [
    "This is how we start:"
   ]
  },
  {
   "cell_type": "code",
   "execution_count": null,
   "metadata": {},
   "outputs": [],
   "source": [
    "data_holdout_w_prediction['is_low_size'] = data_holdout_w_prediction.n_accommodates.map(lambda x: 'small apt' if x < 3 else 'large apt')"
   ]
  },
  {
   "cell_type": "code",
   "execution_count": null,
   "metadata": {},
   "outputs": [],
   "source": [
    "data_holdout_w_prediction.groupby('is_low_size').apply(lambda x: mean_squared_error(x.predicted_price, x.price, squared=False))"
   ]
  },
  {
   "cell_type": "markdown",
   "metadata": {},
   "source": [
    "Putting it in a function with additional columns"
   ]
  },
  {
   "cell_type": "code",
   "execution_count": null,
   "metadata": {},
   "outputs": [],
   "source": [
    "def calculate_rmse(groupby_obj):\n",
    "    return (\n",
    "        groupby_obj.apply(\n",
    "            lambda x: mean_squared_error(x.predicted_price, x.price, squared=False),\n",
    "        )\n",
    "        .to_frame(name=\"rmse\")\n",
    "        .assign(mean_price=groupby_obj.apply(lambda x: np.mean(x.price)).values)\n",
    "        .assign(rmse_norm=lambda x: x.rmse / x.mean_price).round(2)\n",
    "    )"
   ]
  },
  {
   "cell_type": "code",
   "execution_count": null,
   "metadata": {},
   "outputs": [],
   "source": [
    "# cheaper or more expensive flats - not used in book\n",
    "grouped_object = data_holdout_w_prediction.assign(\n",
    "    is_low_size=lambda x: np.where(x.n_accommodates <= 3, \"small apt\", \"large apt\")\n",
    ").groupby(\"is_low_size\")\n",
    "accom_subset = calculate_rmse(grouped_object)"
   ]
  },
  {
   "cell_type": "code",
   "execution_count": null,
   "metadata": {},
   "outputs": [],
   "source": [
    "accom_subset"
   ]
  },
  {
   "cell_type": "markdown",
   "metadata": {},
   "source": [
    "- fancy neighborhoods"
   ]
  },
  {
   "cell_type": "code",
   "execution_count": null,
   "metadata": {},
   "outputs": [],
   "source": [
    "grouped_object = data_holdout_w_prediction.loc[\n",
    "    lambda x: x.f_neighbourhood_cleansed.isin(\n",
    "        [\n",
    "            \"Westminster\",\n",
    "            \"Camden\",\n",
    "            \"Kensington and Chelsea\",\n",
    "            \"Tower Hamlets\",\n",
    "            \"Hackney\",\n",
    "            \"Newham\",\n",
    "        ]\n",
    "    )\n",
    "].groupby(\"f_neighbourhood_cleansed\")\n",
    "neightbourhood_subset = calculate_rmse(grouped_object)\n",
    "\n",
    "neightbourhood_subset"
   ]
  },
  {
   "cell_type": "markdown",
   "metadata": {},
   "source": [
    "- property type"
   ]
  },
  {
   "cell_type": "code",
   "execution_count": null,
   "metadata": {},
   "outputs": [],
   "source": [
    "grouped_object = data_holdout_w_prediction.loc[\n",
    "    lambda x: x.f_property_type.isin([\"Apartment\", \"House\"])\n",
    "].groupby(\"f_property_type\")\n",
    "proptype_subset = calculate_rmse(grouped_object)\n",
    "\n",
    "proptype_subset"
   ]
  },
  {
   "cell_type": "code",
   "execution_count": null,
   "metadata": {},
   "outputs": [],
   "source": [
    "all_holdout = pd.DataFrame(\n",
    "    [\n",
    "        mean_squared_error(\n",
    "            data_holdout_w_prediction.price,\n",
    "            data_holdout_w_prediction.predicted_price,\n",
    "            squared=False,\n",
    "        ),\n",
    "        data_holdout_w_prediction.price.mean(),\n",
    "    ],\n",
    "    index=[\"rmse\", \"mean_price\"],\n",
    ").T.assign(rmse_norm=lambda x: x.rmse / x.mean_price).round(2)\n",
    "all_holdout.index = [\"Total\"]\n",
    "\n",
    "all_holdout"
   ]
  },
  {
   "cell_type": "code",
   "execution_count": null,
   "metadata": {},
   "outputs": [],
   "source": [
    "type_rows = pd.DataFrame(\n",
    "    None,\n",
    "    index=[\"Apartment size\", \"Type\", \"Borough\", \"------\"],\n",
    "    columns=[\"rmse\", \"mean_price\", \"rmse_norm\"],\n",
    ").fillna(\"------\")"
   ]
  },
  {
   "cell_type": "code",
   "execution_count": null,
   "metadata": {},
   "outputs": [],
   "source": [
    "type_rows"
   ]
  },
  {
   "cell_type": "markdown",
   "metadata": {},
   "source": [
    "### Performance across subsamples"
   ]
  },
  {
   "cell_type": "code",
   "execution_count": null,
   "metadata": {},
   "outputs": [],
   "source": [
    "pd.concat(\n",
    "    [\n",
    "        type_rows.iloc[[0]],\n",
    "        accom_subset,\n",
    "        type_rows.iloc[[1]],\n",
    "        proptype_subset,\n",
    "        type_rows.iloc[[2]],\n",
    "        neightbourhood_subset,\n",
    "        type_rows.iloc[[3]],\n",
    "        all_holdout,\n",
    "    ]\n",
    ")"
   ]
  },
  {
   "cell_type": "markdown",
   "metadata": {},
   "source": [
    "## PART IV\n",
    "### HORSERACE: compare with other models \n",
    "-----------------------------------------------\n",
    "**NOTE: this part of the code is not finished**"
   ]
  },
  {
   "cell_type": "markdown",
   "metadata": {},
   "source": [
    "1. ***OLS with dummies for area***\n",
    "\n",
    " using model B"
   ]
  },
  {
   "cell_type": "code",
   "execution_count": null,
   "metadata": {},
   "outputs": [],
   "source": [
    "from sklearn.linear_model import LinearRegression\n"
   ]
  },
  {
   "cell_type": "code",
   "execution_count": null,
   "metadata": {},
   "outputs": [],
   "source": [
    "y, X = dmatrices(\"price ~ \" + \" + \".join(predictors_2), data_train)\n",
    "\n",
    "ols_model = LinearRegression().fit(X,y)\n",
    "\n",
    "#y_test, X_test = dmatrices(\"price ~ \" + \" + \".join(predictors_2), data_holdout)\n",
    "\n",
    "y_hat = ols_model.predict(X)\n",
    "\n",
    "ols_rmse = mean_squared_error(y,y_hat,squared=False)\n",
    "ols_rmse"
   ]
  },
  {
   "cell_type": "code",
   "execution_count": null,
   "metadata": {},
   "outputs": [],
   "source": [
    "ols_model_coeffs_df = pd.DataFrame(\n",
    "    ols_model.coef_.tolist()[0],\n",
    "    index=X.design_info.column_names,\n",
    "    columns=[\"ols_coefficient\"],\n",
    ").assign(ols_coefficient=lambda x: x.ols_coefficient.round(3))"
   ]
  },
  {
   "cell_type": "code",
   "execution_count": null,
   "metadata": {},
   "outputs": [],
   "source": [
    "ols_model_coeffs_df"
   ]
  },
  {
   "cell_type": "markdown",
   "metadata": {},
   "source": [
    "2.  LASSO\n",
    "\n",
    "using extended model w interactions"
   ]
  },
  {
   "cell_type": "code",
   "execution_count": null,
   "metadata": {},
   "outputs": [],
   "source": [
    "from sklearn.linear_model import ElasticNet"
   ]
  },
  {
   "cell_type": "markdown",
   "metadata": {},
   "source": [
    "The parameter `l1_ratio7` corresponds to *alpha* in the `glmnet` R package while `alpha` corresponds to the *lambda* parameter in glmnet. Specifically, l1_ratio = 1 is the lasso penalty. Currently, l1_ratio <= 0.01 is not reliable, unless you supply your own sequence of alpha.\n",
    "\n",
    "https://scikit-learn.org/stable/modules/generated/sklearn.linear_model.ElasticNet.html"
   ]
  },
  {
   "cell_type": "code",
   "execution_count": null,
   "metadata": {},
   "outputs": [],
   "source": [
    "lasso_model =  ElasticNet(l1_ratio = 1,normalize=True,fit_intercept=True)"
   ]
  },
  {
   "cell_type": "code",
   "execution_count": null,
   "metadata": {},
   "outputs": [],
   "source": [
    "lasso_model_cv = GridSearchCV(\n",
    "    lasso_model,\n",
    "    {\"alpha\":[i/100 for i in range(1, 26, 1)]},\n",
    "    cv=5,\n",
    "    scoring=\"neg_root_mean_squared_error\",\n",
    "    verbose=3,\n",
    ")\n"
   ]
  },
  {
   "cell_type": "code",
   "execution_count": null,
   "metadata": {},
   "outputs": [],
   "source": [
    "y, X = dmatrices(\"price ~ \" + \" + \".join(predictors_E), data_train)"
   ]
  },
  {
   "cell_type": "code",
   "execution_count": null,
   "metadata": {},
   "outputs": [],
   "source": [
    "%%time\n",
    "lasso_model_cv.fit(X, y.ravel())"
   ]
  },
  {
   "cell_type": "code",
   "execution_count": null,
   "metadata": {},
   "outputs": [],
   "source": [
    "pd.DataFrame(\n",
    "    lasso_model_cv.best_estimator_.coef_.tolist(),\n",
    "    index=X.design_info.column_names,\n",
    "    columns=[\"lasso_coefficient\"],\n",
    ").assign(lasso_coefficient=lambda x: x.lasso_coefficient.round(3)).loc[\n",
    "    lambda x: x.lasso_coefficient != 0\n",
    "]"
   ]
  },
  {
   "cell_type": "code",
   "execution_count": null,
   "metadata": {},
   "outputs": [],
   "source": [
    "lasso_model_cv.best_estimator_"
   ]
  },
  {
   "cell_type": "code",
   "execution_count": null,
   "metadata": {},
   "outputs": [],
   "source": [
    "lasso_model_cv.cv_results_"
   ]
  },
  {
   "cell_type": "code",
   "execution_count": null,
   "metadata": {
    "scrolled": true
   },
   "outputs": [],
   "source": [
    "lasso_rmse = pd.DataFrame(lasso_model_cv.cv_results_).loc[\n",
    "    lambda x: x.param_alpha == lasso_model_cv.best_estimator_.alpha\n",
    "].mean_test_score.values[0] * -1\n",
    "lasso_rmse"
   ]
  },
  {
   "cell_type": "markdown",
   "metadata": {},
   "source": [
    "3. ***CART model***"
   ]
  },
  {
   "cell_type": "code",
   "execution_count": null,
   "metadata": {},
   "outputs": [],
   "source": [
    "from sklearn.tree import DecisionTreeRegressor"
   ]
  },
  {
   "cell_type": "code",
   "execution_count": null,
   "metadata": {},
   "outputs": [],
   "source": [
    "y, X = dmatrices(\"price ~ \" + \" + \".join(predictors_2), data_train)"
   ]
  },
  {
   "cell_type": "code",
   "execution_count": null,
   "metadata": {},
   "outputs": [],
   "source": [
    "cart_model = DecisionTreeRegressor(random_state=2023)"
   ]
  },
  {
   "cell_type": "markdown",
   "metadata": {},
   "source": [
    "Get potential ccp_alpha parameters"
   ]
  },
  {
   "cell_type": "code",
   "execution_count": null,
   "metadata": {},
   "outputs": [],
   "source": [
    "path = cart_model.cost_complexity_pruning_path(X, y.ravel())\n",
    "ccp_alphas, impurities = path.ccp_alphas, path.impurities"
   ]
  },
  {
   "cell_type": "code",
   "execution_count": null,
   "metadata": {},
   "outputs": [],
   "source": [
    "ccp_alphas"
   ]
  },
  {
   "cell_type": "code",
   "execution_count": null,
   "metadata": {},
   "outputs": [],
   "source": [
    "ccp_alphas.shape"
   ]
  },
  {
   "cell_type": "markdown",
   "metadata": {},
   "source": [
    "Apply random search to select a \"best\" alpha, default is 10 iterations\n",
    "`RandomizedSearchCV` does not calculate all potential alphas, just a random 10-element subset of the many potential alphas"
   ]
  },
  {
   "cell_type": "code",
   "execution_count": null,
   "metadata": {},
   "outputs": [],
   "source": [
    "%%time\n",
    "\n",
    "cart_model_cv = RandomizedSearchCV(\n",
    "    cart_model,\n",
    "    {\"ccp_alpha\":ccp_alphas},\n",
    "    cv=5,\n",
    "    scoring=\"neg_root_mean_squared_error\",\n",
    "    verbose=3,\n",
    ")\n",
    "cart_model_cv.fit(X,y.ravel())"
   ]
  },
  {
   "cell_type": "code",
   "execution_count": null,
   "metadata": {},
   "outputs": [],
   "source": [
    "cart_rmse = pd.DataFrame(cart_model_cv.cv_results_).loc[\n",
    "    lambda x: x.param_ccp_alpha == cart_model_cv.best_estimator_.ccp_alpha\n",
    "].mean_test_score.values[0] * -1\n",
    "cart_rmse"
   ]
  },
  {
   "cell_type": "markdown",
   "metadata": {},
   "source": [
    "4. GBM\n",
    "\n",
    "**NOTE:** With complex grid search run for a **very long time**"
   ]
  },
  {
   "cell_type": "code",
   "execution_count": null,
   "metadata": {},
   "outputs": [],
   "source": [
    "from sklearn.ensemble import GradientBoostingRegressor"
   ]
  },
  {
   "cell_type": "code",
   "execution_count": null,
   "metadata": {},
   "outputs": [],
   "source": [
    "gbm = GradientBoostingRegressor(learning_rate=0.1, min_samples_split=20, max_features = 10, n_estimators = 50)\n",
    "\n",
    "tune_grid = {\"n_estimators\": [200, 300], \"max_depth\": [5, 10]}\n",
    "\n",
    "gbm_model_cv = GridSearchCV(\n",
    "    gbm,\n",
    "    tune_grid,\n",
    "    cv=5,\n",
    "    scoring=\"neg_root_mean_squared_error\",\n",
    "    verbose=10,\n",
    "    n_jobs=-1\n",
    ")"
   ]
  },
  {
   "cell_type": "code",
   "execution_count": null,
   "metadata": {},
   "outputs": [],
   "source": [
    "categorical_columns = [col for col in predictors_2 if col.startswith(\"f_\")]\n",
    "numerical_columns = [col for col in predictors_2 if col not in categorical_columns]\n",
    "\n",
    "categorical_encoder = OneHotEncoder(handle_unknown=\"ignore\")\n",
    "\n",
    "preprocessing = ColumnTransformer(\n",
    "    [\n",
    "        (\"cat\", categorical_encoder, categorical_columns),\n",
    "        (\"num\", \"passthrough\", numerical_columns),\n",
    "    ]\n",
    ")\n",
    "\n",
    "gbm_pipe = Pipeline(\n",
    "    [(\"preprocess\", preprocessing), (\"regressor\", gbm_model_cv)], verbose=True\n",
    ")"
   ]
  },
  {
   "cell_type": "code",
   "execution_count": null,
   "metadata": {},
   "outputs": [],
   "source": [
    "%%time\n",
    "gbm_pipe.fit(data_train[predictors_2],data_train.price)"
   ]
  },
  {
   "cell_type": "code",
   "execution_count": null,
   "metadata": {},
   "outputs": [],
   "source": [
    "gbm_model_cv.cv_results_"
   ]
  },
  {
   "cell_type": "code",
   "execution_count": null,
   "metadata": {},
   "outputs": [],
   "source": [
    "gbm_model_cv.best_estimator_"
   ]
  },
  {
   "cell_type": "code",
   "execution_count": null,
   "metadata": {},
   "outputs": [],
   "source": [
    "gbm_rmse = gbm_model_cv.best_score_*-1"
   ]
  },
  {
   "cell_type": "code",
   "execution_count": null,
   "metadata": {},
   "outputs": [],
   "source": [
    "gbm_rmse"
   ]
  },
  {
   "cell_type": "markdown",
   "metadata": {},
   "source": [
    "Comparing model results on CV RMSE."
   ]
  },
  {
   "cell_type": "code",
   "execution_count": null,
   "metadata": {},
   "outputs": [],
   "source": [
    "pd.DataFrame({'model': ['OLS', 'LASSO', 'CART', 'random forest', 'GBM'],\n",
    "              'CV RMSE': [ols_rmse, lasso_rmse, cart_rmse, all_holdout.rmse[0], gbm_rmse]})"
   ]
  },
  {
   "cell_type": "markdown",
   "metadata": {},
   "source": [
    "***GBM with complex tuning parameter set: takes forever to run***"
   ]
  },
  {
   "cell_type": "markdown",
   "metadata": {},
   "source": [
    "Histogram-based Gradient Boosting Regression Tree. It is experimental so we need to enable experimental features first. This implementation is inspired by [LightGBM](https://github.com/Microsoft/LightGBM)."
   ]
  },
  {
   "cell_type": "code",
   "execution_count": null,
   "metadata": {},
   "outputs": [],
   "source": [
    "from sklearn.experimental import enable_hist_gradient_boosting\n",
    "from sklearn.ensemble import HistGradientBoostingRegressor"
   ]
  },
  {
   "cell_type": "code",
   "execution_count": null,
   "metadata": {},
   "outputs": [],
   "source": [
    "gbm_broad = HistGradientBoostingRegressor()"
   ]
  },
  {
   "cell_type": "code",
   "execution_count": null,
   "metadata": {},
   "outputs": [],
   "source": [
    "tune_grid = {\n",
    "    \"max_iter\": [50, 100, 200],\n",
    "    \"max_depth\": [1, 5, 10],\n",
    "    \"learning_rate\": [0.1, 0.15, 0.2],\n",
    "    \"min_samples_leaf\": [5, 10, 20, 30],\n",
    "}\n",
    "\n",
    "gbm_model_cv_broad = GridSearchCV(\n",
    "    gbm_broad,\n",
    "    tune_grid,\n",
    "    cv=5,\n",
    "    scoring=\"neg_root_mean_squared_error\",\n",
    "    verbose=10,\n",
    ")"
   ]
  },
  {
   "cell_type": "code",
   "execution_count": null,
   "metadata": {},
   "outputs": [],
   "source": [
    "categorical_columns = [col for col in predictors_2 if col.startswith(\"f_\")]\n",
    "numerical_columns = [col for col in predictors_2 if col not in categorical_columns]\n",
    "\n",
    "categorical_encoder = OneHotEncoder(handle_unknown=\"ignore\")\n",
    "\n",
    "preprocessing = ColumnTransformer(\n",
    "    [\n",
    "        (\"cat\", categorical_encoder, categorical_columns),\n",
    "        (\"num\", \"passthrough\", numerical_columns),\n",
    "    ]\n",
    ")\n",
    "\n",
    "gbm_pipe_broad = Pipeline(\n",
    "    [(\"preprocess\", preprocessing), (\"regressor\", gbm_model_cv_broad)], verbose=True\n",
    ")"
   ]
  },
  {
   "cell_type": "code",
   "execution_count": null,
   "metadata": {
    "tags": []
   },
   "outputs": [],
   "source": [
    "%%time\n",
    "gbm_pipe_broad.fit(data_train[predictors_2],data_train.price)"
   ]
  },
  {
   "cell_type": "code",
   "execution_count": null,
   "metadata": {},
   "outputs": [],
   "source": [
    "print('Broad GBM RMSE is: {:.4f}.'.format(gbm_model_cv_broad.best_score_*-1))\n",
    "print('Simple GBM RMSE is: {:.4f}.'.format(gbm_model_cv.best_score_*-1))"
   ]
  },
  {
   "cell_type": "code",
   "execution_count": null,
   "metadata": {},
   "outputs": [],
   "source": []
  }
 ],
 "metadata": {
  "kernelspec": {
   "display_name": "base",
   "language": "python",
   "name": "python3"
  },
  "language_info": {
   "codemirror_mode": {
    "name": "ipython",
    "version": 3
   },
   "file_extension": ".py",
   "mimetype": "text/x-python",
   "name": "python",
   "nbconvert_exporter": "python",
   "pygments_lexer": "ipython3",
   "version": "3.8.8"
  },
  "vscode": {
   "interpreter": {
    "hash": "40d3a090f54c6569ab1632332b64b2c03c39dcf918b08424e98f38b5ae0af88f"
   }
  }
 },
 "nbformat": 4,
 "nbformat_minor": 4
}
