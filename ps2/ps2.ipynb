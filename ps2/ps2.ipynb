{
 "cells": [
  {
   "attachments": {},
   "cell_type": "markdown",
   "metadata": {},
   "source": [
    "# Prediction with Machine Learning HW2\n",
    "## Mukhamejan Assan"
   ]
  },
  {
   "attachments": {},
   "cell_type": "markdown",
   "metadata": {},
   "source": [
    "Business: Your task will be to help a company operating small and mid-size apartments hosting 2-6 guests. The company is set to price their new apartments not on the market. \n",
    "\n",
    "Build a price prediction model similarly to how we did in our case study for London. \n",
    "\n",
    "Discuss your modeling decisions and compare your results to those of the case study. \n"
   ]
  },
  {
   "attachments": {},
   "cell_type": "markdown",
   "metadata": {},
   "source": [
    "## Getting the data"
   ]
  },
  {
   "cell_type": "code",
   "execution_count": 49,
   "metadata": {},
   "outputs": [],
   "source": [
    "import pandas as pd \n",
    "\n",
    "df = pd.read_csv('listings.csv')"
   ]
  },
  {
   "attachments": {},
   "cell_type": "markdown",
   "metadata": {},
   "source": [
    "## EDA\n",
    "### The size"
   ]
  },
  {
   "cell_type": "code",
   "execution_count": 50,
   "metadata": {},
   "outputs": [
    {
     "data": {
      "text/plain": [
       "(11056, 75)"
      ]
     },
     "execution_count": 50,
     "metadata": {},
     "output_type": "execute_result"
    }
   ],
   "source": [
    "df.shape "
   ]
  },
  {
   "attachments": {},
   "cell_type": "markdown",
   "metadata": {},
   "source": [
    "### The variables, their description, and type"
   ]
  },
  {
   "cell_type": "code",
   "execution_count": 51,
   "metadata": {},
   "outputs": [
    {
     "data": {
      "text/html": [
       "<div>\n",
       "<style scoped>\n",
       "    .dataframe tbody tr th:only-of-type {\n",
       "        vertical-align: middle;\n",
       "    }\n",
       "\n",
       "    .dataframe tbody tr th {\n",
       "        vertical-align: top;\n",
       "    }\n",
       "\n",
       "    .dataframe thead th {\n",
       "        text-align: right;\n",
       "    }\n",
       "</style>\n",
       "<table border=\"1\" class=\"dataframe\">\n",
       "  <thead>\n",
       "    <tr style=\"text-align: right;\">\n",
       "      <th></th>\n",
       "      <th>id</th>\n",
       "      <th>listing_url</th>\n",
       "      <th>scrape_id</th>\n",
       "      <th>last_scraped</th>\n",
       "      <th>source</th>\n",
       "      <th>name</th>\n",
       "      <th>description</th>\n",
       "      <th>neighborhood_overview</th>\n",
       "      <th>picture_url</th>\n",
       "      <th>host_id</th>\n",
       "      <th>...</th>\n",
       "      <th>review_scores_communication</th>\n",
       "      <th>review_scores_location</th>\n",
       "      <th>review_scores_value</th>\n",
       "      <th>license</th>\n",
       "      <th>instant_bookable</th>\n",
       "      <th>calculated_host_listings_count</th>\n",
       "      <th>calculated_host_listings_count_entire_homes</th>\n",
       "      <th>calculated_host_listings_count_private_rooms</th>\n",
       "      <th>calculated_host_listings_count_shared_rooms</th>\n",
       "      <th>reviews_per_month</th>\n",
       "    </tr>\n",
       "  </thead>\n",
       "  <tbody>\n",
       "    <tr>\n",
       "      <th>0</th>\n",
       "      <td>10595</td>\n",
       "      <td>https://www.airbnb.com/rooms/10595</td>\n",
       "      <td>20221227164102</td>\n",
       "      <td>2022-12-27</td>\n",
       "      <td>previous scrape</td>\n",
       "      <td>96m2, 3BR, 2BA, Metro, WI-FI etc...</td>\n",
       "      <td>Athens Furnished Apartment No6 is 3-bedroom ap...</td>\n",
       "      <td>Ampelokipi district is nice multinational and ...</td>\n",
       "      <td>https://a0.muscache.com/pictures/f7e19a44-5afe...</td>\n",
       "      <td>37177</td>\n",
       "      <td>...</td>\n",
       "      <td>4.85</td>\n",
       "      <td>4.53</td>\n",
       "      <td>4.68</td>\n",
       "      <td>00000957568</td>\n",
       "      <td>f</td>\n",
       "      <td>7</td>\n",
       "      <td>7</td>\n",
       "      <td>0</td>\n",
       "      <td>0</td>\n",
       "      <td>0.24</td>\n",
       "    </tr>\n",
       "    <tr>\n",
       "      <th>1</th>\n",
       "      <td>10990</td>\n",
       "      <td>https://www.airbnb.com/rooms/10990</td>\n",
       "      <td>20221227164102</td>\n",
       "      <td>2022-12-28</td>\n",
       "      <td>city scrape</td>\n",
       "      <td>Athens Quality Apartments - Deluxe Apartment</td>\n",
       "      <td>Athens Quality Apartments - Deluxe apartment i...</td>\n",
       "      <td>Ampelokipi district is nice multinational and ...</td>\n",
       "      <td>https://a0.muscache.com/pictures/8645179/c1728...</td>\n",
       "      <td>37177</td>\n",
       "      <td>...</td>\n",
       "      <td>4.89</td>\n",
       "      <td>4.77</td>\n",
       "      <td>4.74</td>\n",
       "      <td>00001070920</td>\n",
       "      <td>f</td>\n",
       "      <td>7</td>\n",
       "      <td>7</td>\n",
       "      <td>0</td>\n",
       "      <td>0</td>\n",
       "      <td>0.50</td>\n",
       "    </tr>\n",
       "    <tr>\n",
       "      <th>2</th>\n",
       "      <td>10993</td>\n",
       "      <td>https://www.airbnb.com/rooms/10993</td>\n",
       "      <td>20221227164102</td>\n",
       "      <td>2022-12-28</td>\n",
       "      <td>city scrape</td>\n",
       "      <td>Athens Quality Apartments - Studio</td>\n",
       "      <td>The Studio is an &lt;br /&gt;-excellent located &lt;br ...</td>\n",
       "      <td>Ampelokipi district is nice multinational and ...</td>\n",
       "      <td>https://a0.muscache.com/pictures/107309527/848...</td>\n",
       "      <td>37177</td>\n",
       "      <td>...</td>\n",
       "      <td>4.98</td>\n",
       "      <td>4.84</td>\n",
       "      <td>4.78</td>\n",
       "      <td>00000957080</td>\n",
       "      <td>f</td>\n",
       "      <td>7</td>\n",
       "      <td>7</td>\n",
       "      <td>0</td>\n",
       "      <td>0</td>\n",
       "      <td>0.70</td>\n",
       "    </tr>\n",
       "    <tr>\n",
       "      <th>3</th>\n",
       "      <td>10995</td>\n",
       "      <td>https://www.airbnb.com/rooms/10995</td>\n",
       "      <td>20221227164102</td>\n",
       "      <td>2022-12-28</td>\n",
       "      <td>city scrape</td>\n",
       "      <td>AQA-No2 1-bedroom, smart tv, fiber connection,</td>\n",
       "      <td>AQA No2 is 1-bedroom apartment (47m2), on the ...</td>\n",
       "      <td>Ampelokipi district is nice multinational and ...</td>\n",
       "      <td>https://a0.muscache.com/pictures/6a565613-aaa3...</td>\n",
       "      <td>37177</td>\n",
       "      <td>...</td>\n",
       "      <td>4.89</td>\n",
       "      <td>4.81</td>\n",
       "      <td>4.81</td>\n",
       "      <td>00000957422</td>\n",
       "      <td>t</td>\n",
       "      <td>7</td>\n",
       "      <td>7</td>\n",
       "      <td>0</td>\n",
       "      <td>0</td>\n",
       "      <td>0.19</td>\n",
       "    </tr>\n",
       "    <tr>\n",
       "      <th>4</th>\n",
       "      <td>27262</td>\n",
       "      <td>https://www.airbnb.com/rooms/27262</td>\n",
       "      <td>20221227164102</td>\n",
       "      <td>2022-12-27</td>\n",
       "      <td>city scrape</td>\n",
       "      <td>54m2, 1-br, cable tv, wi-fi, metro</td>\n",
       "      <td>Big 1-bedroom apartment that can accommodate 4...</td>\n",
       "      <td>NaN</td>\n",
       "      <td>https://a0.muscache.com/pictures/8651803/4b82b...</td>\n",
       "      <td>37177</td>\n",
       "      <td>...</td>\n",
       "      <td>4.95</td>\n",
       "      <td>4.67</td>\n",
       "      <td>4.61</td>\n",
       "      <td>00000957579</td>\n",
       "      <td>f</td>\n",
       "      <td>7</td>\n",
       "      <td>7</td>\n",
       "      <td>0</td>\n",
       "      <td>0</td>\n",
       "      <td>0.15</td>\n",
       "    </tr>\n",
       "  </tbody>\n",
       "</table>\n",
       "<p>5 rows × 75 columns</p>\n",
       "</div>"
      ],
      "text/plain": [
       "      id                         listing_url       scrape_id last_scraped  \\\n",
       "0  10595  https://www.airbnb.com/rooms/10595  20221227164102   2022-12-27   \n",
       "1  10990  https://www.airbnb.com/rooms/10990  20221227164102   2022-12-28   \n",
       "2  10993  https://www.airbnb.com/rooms/10993  20221227164102   2022-12-28   \n",
       "3  10995  https://www.airbnb.com/rooms/10995  20221227164102   2022-12-28   \n",
       "4  27262  https://www.airbnb.com/rooms/27262  20221227164102   2022-12-27   \n",
       "\n",
       "            source                                            name  \\\n",
       "0  previous scrape             96m2, 3BR, 2BA, Metro, WI-FI etc...   \n",
       "1      city scrape    Athens Quality Apartments - Deluxe Apartment   \n",
       "2      city scrape              Athens Quality Apartments - Studio   \n",
       "3      city scrape  AQA-No2 1-bedroom, smart tv, fiber connection,   \n",
       "4      city scrape              54m2, 1-br, cable tv, wi-fi, metro   \n",
       "\n",
       "                                         description  \\\n",
       "0  Athens Furnished Apartment No6 is 3-bedroom ap...   \n",
       "1  Athens Quality Apartments - Deluxe apartment i...   \n",
       "2  The Studio is an <br />-excellent located <br ...   \n",
       "3  AQA No2 is 1-bedroom apartment (47m2), on the ...   \n",
       "4  Big 1-bedroom apartment that can accommodate 4...   \n",
       "\n",
       "                               neighborhood_overview  \\\n",
       "0  Ampelokipi district is nice multinational and ...   \n",
       "1  Ampelokipi district is nice multinational and ...   \n",
       "2  Ampelokipi district is nice multinational and ...   \n",
       "3  Ampelokipi district is nice multinational and ...   \n",
       "4                                                NaN   \n",
       "\n",
       "                                         picture_url  host_id  ...  \\\n",
       "0  https://a0.muscache.com/pictures/f7e19a44-5afe...    37177  ...   \n",
       "1  https://a0.muscache.com/pictures/8645179/c1728...    37177  ...   \n",
       "2  https://a0.muscache.com/pictures/107309527/848...    37177  ...   \n",
       "3  https://a0.muscache.com/pictures/6a565613-aaa3...    37177  ...   \n",
       "4  https://a0.muscache.com/pictures/8651803/4b82b...    37177  ...   \n",
       "\n",
       "  review_scores_communication review_scores_location review_scores_value  \\\n",
       "0                        4.85                   4.53                4.68   \n",
       "1                        4.89                   4.77                4.74   \n",
       "2                        4.98                   4.84                4.78   \n",
       "3                        4.89                   4.81                4.81   \n",
       "4                        4.95                   4.67                4.61   \n",
       "\n",
       "       license instant_bookable calculated_host_listings_count  \\\n",
       "0  00000957568                f                              7   \n",
       "1  00001070920                f                              7   \n",
       "2  00000957080                f                              7   \n",
       "3  00000957422                t                              7   \n",
       "4  00000957579                f                              7   \n",
       "\n",
       "  calculated_host_listings_count_entire_homes  \\\n",
       "0                                           7   \n",
       "1                                           7   \n",
       "2                                           7   \n",
       "3                                           7   \n",
       "4                                           7   \n",
       "\n",
       "  calculated_host_listings_count_private_rooms  \\\n",
       "0                                            0   \n",
       "1                                            0   \n",
       "2                                            0   \n",
       "3                                            0   \n",
       "4                                            0   \n",
       "\n",
       "  calculated_host_listings_count_shared_rooms reviews_per_month  \n",
       "0                                           0              0.24  \n",
       "1                                           0              0.50  \n",
       "2                                           0              0.70  \n",
       "3                                           0              0.19  \n",
       "4                                           0              0.15  \n",
       "\n",
       "[5 rows x 75 columns]"
      ]
     },
     "execution_count": 51,
     "metadata": {},
     "output_type": "execute_result"
    }
   ],
   "source": [
    "df.head()"
   ]
  },
  {
   "cell_type": "code",
   "execution_count": 52,
   "metadata": {},
   "outputs": [
    {
     "name": "stdout",
     "output_type": "stream",
     "text": [
      "<class 'pandas.core.frame.DataFrame'>\n",
      "RangeIndex: 11056 entries, 0 to 11055\n",
      "Data columns (total 75 columns):\n",
      " #   Column                                        Non-Null Count  Dtype  \n",
      "---  ------                                        --------------  -----  \n",
      " 0   id                                            11056 non-null  int64  \n",
      " 1   listing_url                                   11056 non-null  object \n",
      " 2   scrape_id                                     11056 non-null  int64  \n",
      " 3   last_scraped                                  11056 non-null  object \n",
      " 4   source                                        11056 non-null  object \n",
      " 5   name                                          11054 non-null  object \n",
      " 6   description                                   11018 non-null  object \n",
      " 7   neighborhood_overview                         7087 non-null   object \n",
      " 8   picture_url                                   11056 non-null  object \n",
      " 9   host_id                                       11056 non-null  int64  \n",
      " 10  host_url                                      11056 non-null  object \n",
      " 11  host_name                                     11056 non-null  object \n",
      " 12  host_since                                    11056 non-null  object \n",
      " 13  host_location                                 8239 non-null   object \n",
      " 14  host_about                                    6010 non-null   object \n",
      " 15  host_response_time                            9407 non-null   object \n",
      " 16  host_response_rate                            9407 non-null   object \n",
      " 17  host_acceptance_rate                          9981 non-null   object \n",
      " 18  host_is_superhost                             11056 non-null  object \n",
      " 19  host_thumbnail_url                            11056 non-null  object \n",
      " 20  host_picture_url                              11056 non-null  object \n",
      " 21  host_neighbourhood                            6770 non-null   object \n",
      " 22  host_listings_count                           11056 non-null  int64  \n",
      " 23  host_total_listings_count                     11056 non-null  int64  \n",
      " 24  host_verifications                            11056 non-null  object \n",
      " 25  host_has_profile_pic                          11056 non-null  object \n",
      " 26  host_identity_verified                        11056 non-null  object \n",
      " 27  neighbourhood                                 7087 non-null   object \n",
      " 28  neighbourhood_cleansed                        11056 non-null  object \n",
      " 29  neighbourhood_group_cleansed                  0 non-null      float64\n",
      " 30  latitude                                      11056 non-null  float64\n",
      " 31  longitude                                     11056 non-null  float64\n",
      " 32  property_type                                 11056 non-null  object \n",
      " 33  room_type                                     11056 non-null  object \n",
      " 34  accommodates                                  11056 non-null  int64  \n",
      " 35  bathrooms                                     0 non-null      float64\n",
      " 36  bathrooms_text                                11050 non-null  object \n",
      " 37  bedrooms                                      10200 non-null  float64\n",
      " 38  beds                                          10947 non-null  float64\n",
      " 39  amenities                                     11056 non-null  object \n",
      " 40  price                                         11056 non-null  object \n",
      " 41  minimum_nights                                11056 non-null  int64  \n",
      " 42  maximum_nights                                11056 non-null  int64  \n",
      " 43  minimum_minimum_nights                        11056 non-null  int64  \n",
      " 44  maximum_minimum_nights                        11056 non-null  int64  \n",
      " 45  minimum_maximum_nights                        11056 non-null  int64  \n",
      " 46  maximum_maximum_nights                        11056 non-null  int64  \n",
      " 47  minimum_nights_avg_ntm                        11056 non-null  float64\n",
      " 48  maximum_nights_avg_ntm                        11056 non-null  float64\n",
      " 49  calendar_updated                              0 non-null      float64\n",
      " 50  has_availability                              11056 non-null  object \n",
      " 51  availability_30                               11056 non-null  int64  \n",
      " 52  availability_60                               11056 non-null  int64  \n",
      " 53  availability_90                               11056 non-null  int64  \n",
      " 54  availability_365                              11056 non-null  int64  \n",
      " 55  calendar_last_scraped                         11056 non-null  object \n",
      " 56  number_of_reviews                             11056 non-null  int64  \n",
      " 57  number_of_reviews_ltm                         11056 non-null  int64  \n",
      " 58  number_of_reviews_l30d                        11056 non-null  int64  \n",
      " 59  first_review                                  9285 non-null   object \n",
      " 60  last_review                                   9285 non-null   object \n",
      " 61  review_scores_rating                          9285 non-null   float64\n",
      " 62  review_scores_accuracy                        9266 non-null   float64\n",
      " 63  review_scores_cleanliness                     9266 non-null   float64\n",
      " 64  review_scores_checkin                         9266 non-null   float64\n",
      " 65  review_scores_communication                   9265 non-null   float64\n",
      " 66  review_scores_location                        9266 non-null   float64\n",
      " 67  review_scores_value                           9265 non-null   float64\n",
      " 68  license                                       10237 non-null  object \n",
      " 69  instant_bookable                              11056 non-null  object \n",
      " 70  calculated_host_listings_count                11056 non-null  int64  \n",
      " 71  calculated_host_listings_count_entire_homes   11056 non-null  int64  \n",
      " 72  calculated_host_listings_count_private_rooms  11056 non-null  int64  \n",
      " 73  calculated_host_listings_count_shared_rooms   11056 non-null  int64  \n",
      " 74  reviews_per_month                             9285 non-null   float64\n",
      "dtypes: float64(17), int64(23), object(35)\n",
      "memory usage: 6.3+ MB\n"
     ]
    }
   ],
   "source": [
    "df.info()"
   ]
  },
  {
   "cell_type": "code",
   "execution_count": 13,
   "metadata": {},
   "outputs": [],
   "source": [
    "features = ['id', 'listing_url', 'scrape_id', 'last_scraped', 'source', 'name',\n",
    "       'description', 'neighborhood_overview', 'picture_url', 'host_id',\n",
    "       'host_url', 'host_name', 'host_since', 'host_location', 'host_about',\n",
    "       'host_response_time', 'host_response_rate', 'host_acceptance_rate',\n",
    "       'host_is_superhost', 'host_thumbnail_url', 'host_picture_url',\n",
    "       'host_neighbourhood', 'host_listings_count',\n",
    "       'host_total_listings_count', 'host_verifications',\n",
    "       'host_has_profile_pic', 'host_identity_verified', 'neighbourhood',\n",
    "       'neighbourhood_cleansed', 'neighbourhood_group_cleansed', 'latitude',\n",
    "       'longitude', 'property_type', 'room_type', 'accommodates', 'bathrooms',\n",
    "       'bathrooms_text', 'bedrooms', 'beds', 'amenities',\n",
    "       'minimum_nights', 'maximum_nights', 'minimum_minimum_nights',\n",
    "       'maximum_minimum_nights', 'minimum_maximum_nights',\n",
    "       'maximum_maximum_nights', 'minimum_nights_avg_ntm',\n",
    "       'maximum_nights_avg_ntm', 'calendar_updated', 'has_availability',\n",
    "       'availability_30', 'availability_60', 'availability_90',\n",
    "       'availability_365', 'calendar_last_scraped', 'number_of_reviews',\n",
    "       'number_of_reviews_ltm', 'number_of_reviews_l30d', 'first_review',\n",
    "       'last_review', 'review_scores_rating', 'review_scores_accuracy',\n",
    "       'review_scores_cleanliness', 'review_scores_checkin',\n",
    "       'review_scores_communication', 'review_scores_location',\n",
    "       'review_scores_value', 'license', 'instant_bookable',\n",
    "       'calculated_host_listings_count',\n",
    "       'calculated_host_listings_count_entire_homes',\n",
    "       'calculated_host_listings_count_private_rooms',\n",
    "       'calculated_host_listings_count_shared_rooms', 'reviews_per_month']"
   ]
  },
  {
   "cell_type": "code",
   "execution_count": 12,
   "metadata": {},
   "outputs": [],
   "source": [
    "target = ['price']"
   ]
  },
  {
   "cell_type": "code",
   "execution_count": 15,
   "metadata": {},
   "outputs": [
    {
     "data": {
      "text/html": [
       "<div>\n",
       "<style scoped>\n",
       "    .dataframe tbody tr th:only-of-type {\n",
       "        vertical-align: middle;\n",
       "    }\n",
       "\n",
       "    .dataframe tbody tr th {\n",
       "        vertical-align: top;\n",
       "    }\n",
       "\n",
       "    .dataframe thead th {\n",
       "        text-align: right;\n",
       "    }\n",
       "</style>\n",
       "<table border=\"1\" class=\"dataframe\">\n",
       "  <thead>\n",
       "    <tr style=\"text-align: right;\">\n",
       "      <th></th>\n",
       "      <th>price</th>\n",
       "    </tr>\n",
       "  </thead>\n",
       "  <tbody>\n",
       "    <tr>\n",
       "      <th>0</th>\n",
       "      <td>$81.00</td>\n",
       "    </tr>\n",
       "    <tr>\n",
       "      <th>1</th>\n",
       "      <td>$75.00</td>\n",
       "    </tr>\n",
       "    <tr>\n",
       "      <th>2</th>\n",
       "      <td>$60.00</td>\n",
       "    </tr>\n",
       "    <tr>\n",
       "      <th>3</th>\n",
       "      <td>$42.00</td>\n",
       "    </tr>\n",
       "    <tr>\n",
       "      <th>4</th>\n",
       "      <td>$75.00</td>\n",
       "    </tr>\n",
       "    <tr>\n",
       "      <th>...</th>\n",
       "      <td>...</td>\n",
       "    </tr>\n",
       "    <tr>\n",
       "      <th>11051</th>\n",
       "      <td>$56.00</td>\n",
       "    </tr>\n",
       "    <tr>\n",
       "      <th>11052</th>\n",
       "      <td>$58.00</td>\n",
       "    </tr>\n",
       "    <tr>\n",
       "      <th>11053</th>\n",
       "      <td>$129.00</td>\n",
       "    </tr>\n",
       "    <tr>\n",
       "      <th>11054</th>\n",
       "      <td>$46.00</td>\n",
       "    </tr>\n",
       "    <tr>\n",
       "      <th>11055</th>\n",
       "      <td>$170.00</td>\n",
       "    </tr>\n",
       "  </tbody>\n",
       "</table>\n",
       "<p>11056 rows × 1 columns</p>\n",
       "</div>"
      ],
      "text/plain": [
       "         price\n",
       "0       $81.00\n",
       "1       $75.00\n",
       "2       $60.00\n",
       "3       $42.00\n",
       "4       $75.00\n",
       "...        ...\n",
       "11051   $56.00\n",
       "11052   $58.00\n",
       "11053  $129.00\n",
       "11054   $46.00\n",
       "11055  $170.00\n",
       "\n",
       "[11056 rows x 1 columns]"
      ]
     },
     "execution_count": 15,
     "metadata": {},
     "output_type": "execute_result"
    }
   ],
   "source": [
    "df[target]"
   ]
  },
  {
   "cell_type": "code",
   "execution_count": 11,
   "metadata": {},
   "outputs": [
    {
     "data": {
      "text/plain": [
       "77284"
      ]
     },
     "execution_count": 11,
     "metadata": {},
     "output_type": "execute_result"
    }
   ],
   "source": [
    "df.isna().sum().sum()\n",
    "# a lot of missing values ):"
   ]
  },
  {
   "cell_type": "code",
   "execution_count": 20,
   "metadata": {},
   "outputs": [
    {
     "data": {
      "text/plain": [
       "<AxesSubplot:>"
      ]
     },
     "execution_count": 20,
     "metadata": {},
     "output_type": "execute_result"
    },
    {
     "data": {
      "image/png": "[encoded data removed]",
      "text/plain": [
       "<Figure size 720x720 with 1 Axes>"
      ]
     },
     "metadata": {
      "needs_background": "light"
     },
     "output_type": "display_data"
    }
   ],
   "source": [
    "import seaborn as sns\n",
    "import matplotlib.pyplot as plt\n",
    "fig, ax = plt.subplots(figsize=(10,10))         # Sample figsize in inches\n",
    "sns.heatmap(df.isnull(), yticklabels=False, cbar=False, cmap='BuPu_r', ax=ax)"
   ]
  },
  {
   "cell_type": "code",
   "execution_count": 46,
   "metadata": {},
   "outputs": [
    {
     "data": {
      "text/plain": [
       "<AxesSubplot:title={'center':'Share of the missing values >0'}>"
      ]
     },
     "execution_count": 46,
     "metadata": {},
     "output_type": "execute_result"
    },
    {
     "data": {
      "image/png": "[encoded data removed]",
      "text/plain": [
       "<Figure size 720x720 with 1 Axes>"
      ]
     },
     "metadata": {
      "needs_background": "light"
     },
     "output_type": "display_data"
    }
   ],
   "source": [
    "na_share = df.isnull().mean()*100\n",
    "fig, ax = plt.subplots(figsize=(10,10))    \n",
    "na_share[na_share>0].sort_values(ascending=False).plot.barh(title = 'Share of the missing values >0')"
   ]
  }
 ],
 "metadata": {
  "kernelspec": {
   "display_name": "base",
   "language": "python",
   "name": "python3"
  },
  "language_info": {
   "codemirror_mode": {
    "name": "ipython",
    "version": 3
   },
   "file_extension": ".py",
   "mimetype": "text/x-python",
   "name": "python",
   "nbconvert_exporter": "python",
   "pygments_lexer": "ipython3",
   "version": "3.8.8"
  },
  "orig_nbformat": 4,
  "vscode": {
   "interpreter": {
    "hash": "40d3a090f54c6569ab1632332b64b2c03c39dcf918b08424e98f38b5ae0af88f"
   }
  }
 },
 "nbformat": 4,
 "nbformat_minor": 2
}
