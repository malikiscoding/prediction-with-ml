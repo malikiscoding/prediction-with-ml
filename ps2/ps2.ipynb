{
 "cells": [
  {
   "attachments": {},
   "cell_type": "markdown",
   "metadata": {},
   "source": [
    "# Prediction with Machine Learning HW2\n",
    "## Mukhamejan Assan"
   ]
  },
  {
   "attachments": {},
   "cell_type": "markdown",
   "metadata": {},
   "source": [
    "Business: Your task will be to help a company operating small and mid-size apartments hosting 2-6 guests. The company is set to price their new apartments not on the market. \n",
    "\n",
    "Build a price prediction model similarly to how we did in our case study for London. \n",
    "\n",
    "Discuss your modeling decisions and compare your results to those of the case study. \n"
   ]
  },
  {
   "attachments": {},
   "cell_type": "markdown",
   "metadata": {},
   "source": [
    "## Part I. Accessing and Cleaning Data"
   ]
  },
  {
   "cell_type": "code",
   "execution_count": 147,
   "metadata": {},
   "outputs": [],
   "source": [
    "import numpy as np\n",
    "import pandas as pd \n",
    "import matplotlib.pyplot as plt \n",
    "import seaborn as sns"
   ]
  },
  {
   "cell_type": "code",
   "execution_count": 148,
   "metadata": {},
   "outputs": [
    {
     "data": {
      "text/plain": [
       "(11056, 75)"
      ]
     },
     "execution_count": 148,
     "metadata": {},
     "output_type": "execute_result"
    }
   ],
   "source": [
    "df = pd.read_csv('listings.csv')\n",
    "df.shape "
   ]
  },
  {
   "attachments": {},
   "cell_type": "markdown",
   "metadata": {},
   "source": [
    "### The variables, their description, and type"
   ]
  },
  {
   "cell_type": "code",
   "execution_count": 149,
   "metadata": {},
   "outputs": [
    {
     "name": "stdout",
     "output_type": "stream",
     "text": [
      "<class 'pandas.core.frame.DataFrame'>\n",
      "RangeIndex: 11056 entries, 0 to 11055\n",
      "Data columns (total 75 columns):\n",
      " #   Column                                        Non-Null Count  Dtype  \n",
      "---  ------                                        --------------  -----  \n",
      " 0   id                                            11056 non-null  int64  \n",
      " 1   listing_url                                   11056 non-null  object \n",
      " 2   scrape_id                                     11056 non-null  int64  \n",
      " 3   last_scraped                                  11056 non-null  object \n",
      " 4   source                                        11056 non-null  object \n",
      " 5   name                                          11054 non-null  object \n",
      " 6   description                                   11018 non-null  object \n",
      " 7   neighborhood_overview                         7087 non-null   object \n",
      " 8   picture_url                                   11056 non-null  object \n",
      " 9   host_id                                       11056 non-null  int64  \n",
      " 10  host_url                                      11056 non-null  object \n",
      " 11  host_name                                     11056 non-null  object \n",
      " 12  host_since                                    11056 non-null  object \n",
      " 13  host_location                                 8239 non-null   object \n",
      " 14  host_about                                    6010 non-null   object \n",
      " 15  host_response_time                            9407 non-null   object \n",
      " 16  host_response_rate                            9407 non-null   object \n",
      " 17  host_acceptance_rate                          9981 non-null   object \n",
      " 18  host_is_superhost                             11056 non-null  object \n",
      " 19  host_thumbnail_url                            11056 non-null  object \n",
      " 20  host_picture_url                              11056 non-null  object \n",
      " 21  host_neighbourhood                            6770 non-null   object \n",
      " 22  host_listings_count                           11056 non-null  int64  \n",
      " 23  host_total_listings_count                     11056 non-null  int64  \n",
      " 24  host_verifications                            11056 non-null  object \n",
      " 25  host_has_profile_pic                          11056 non-null  object \n",
      " 26  host_identity_verified                        11056 non-null  object \n",
      " 27  neighbourhood                                 7087 non-null   object \n",
      " 28  neighbourhood_cleansed                        11056 non-null  object \n",
      " 29  neighbourhood_group_cleansed                  0 non-null      float64\n",
      " 30  latitude                                      11056 non-null  float64\n",
      " 31  longitude                                     11056 non-null  float64\n",
      " 32  property_type                                 11056 non-null  object \n",
      " 33  room_type                                     11056 non-null  object \n",
      " 34  accommodates                                  11056 non-null  int64  \n",
      " 35  bathrooms                                     0 non-null      float64\n",
      " 36  bathrooms_text                                11050 non-null  object \n",
      " 37  bedrooms                                      10200 non-null  float64\n",
      " 38  beds                                          10947 non-null  float64\n",
      " 39  amenities                                     11056 non-null  object \n",
      " 40  price                                         11056 non-null  object \n",
      " 41  minimum_nights                                11056 non-null  int64  \n",
      " 42  maximum_nights                                11056 non-null  int64  \n",
      " 43  minimum_minimum_nights                        11056 non-null  int64  \n",
      " 44  maximum_minimum_nights                        11056 non-null  int64  \n",
      " 45  minimum_maximum_nights                        11056 non-null  int64  \n",
      " 46  maximum_maximum_nights                        11056 non-null  int64  \n",
      " 47  minimum_nights_avg_ntm                        11056 non-null  float64\n",
      " 48  maximum_nights_avg_ntm                        11056 non-null  float64\n",
      " 49  calendar_updated                              0 non-null      float64\n",
      " 50  has_availability                              11056 non-null  object \n",
      " 51  availability_30                               11056 non-null  int64  \n",
      " 52  availability_60                               11056 non-null  int64  \n",
      " 53  availability_90                               11056 non-null  int64  \n",
      " 54  availability_365                              11056 non-null  int64  \n",
      " 55  calendar_last_scraped                         11056 non-null  object \n",
      " 56  number_of_reviews                             11056 non-null  int64  \n",
      " 57  number_of_reviews_ltm                         11056 non-null  int64  \n",
      " 58  number_of_reviews_l30d                        11056 non-null  int64  \n",
      " 59  first_review                                  9285 non-null   object \n",
      " 60  last_review                                   9285 non-null   object \n",
      " 61  review_scores_rating                          9285 non-null   float64\n",
      " 62  review_scores_accuracy                        9266 non-null   float64\n",
      " 63  review_scores_cleanliness                     9266 non-null   float64\n",
      " 64  review_scores_checkin                         9266 non-null   float64\n",
      " 65  review_scores_communication                   9265 non-null   float64\n",
      " 66  review_scores_location                        9266 non-null   float64\n",
      " 67  review_scores_value                           9265 non-null   float64\n",
      " 68  license                                       10237 non-null  object \n",
      " 69  instant_bookable                              11056 non-null  object \n",
      " 70  calculated_host_listings_count                11056 non-null  int64  \n",
      " 71  calculated_host_listings_count_entire_homes   11056 non-null  int64  \n",
      " 72  calculated_host_listings_count_private_rooms  11056 non-null  int64  \n",
      " 73  calculated_host_listings_count_shared_rooms   11056 non-null  int64  \n",
      " 74  reviews_per_month                             9285 non-null   float64\n",
      "dtypes: float64(17), int64(23), object(35)\n",
      "memory usage: 6.3+ MB\n"
     ]
    }
   ],
   "source": [
    "df.info()"
   ]
  },
  {
   "cell_type": "code",
   "execution_count": 150,
   "metadata": {},
   "outputs": [
    {
     "data": {
      "text/plain": [
       "Index(['id', 'listing_url', 'scrape_id', 'last_scraped', 'source', 'name',\n",
       "       'description', 'neighborhood_overview', 'picture_url', 'host_id',\n",
       "       'host_url', 'host_name', 'host_since', 'host_location', 'host_about',\n",
       "       'host_response_time', 'host_response_rate', 'host_acceptance_rate',\n",
       "       'host_is_superhost', 'host_thumbnail_url', 'host_picture_url',\n",
       "       'host_neighbourhood', 'host_listings_count',\n",
       "       'host_total_listings_count', 'host_verifications',\n",
       "       'host_has_profile_pic', 'host_identity_verified', 'neighbourhood',\n",
       "       'neighbourhood_cleansed', 'neighbourhood_group_cleansed', 'latitude',\n",
       "       'longitude', 'property_type', 'room_type', 'accommodates', 'bathrooms',\n",
       "       'bathrooms_text', 'bedrooms', 'beds', 'amenities', 'price',\n",
       "       'minimum_nights', 'maximum_nights', 'minimum_minimum_nights',\n",
       "       'maximum_minimum_nights', 'minimum_maximum_nights',\n",
       "       'maximum_maximum_nights', 'minimum_nights_avg_ntm',\n",
       "       'maximum_nights_avg_ntm', 'calendar_updated', 'has_availability',\n",
       "       'availability_30', 'availability_60', 'availability_90',\n",
       "       'availability_365', 'calendar_last_scraped', 'number_of_reviews',\n",
       "       'number_of_reviews_ltm', 'number_of_reviews_l30d', 'first_review',\n",
       "       'last_review', 'review_scores_rating', 'review_scores_accuracy',\n",
       "       'review_scores_cleanliness', 'review_scores_checkin',\n",
       "       'review_scores_communication', 'review_scores_location',\n",
       "       'review_scores_value', 'license', 'instant_bookable',\n",
       "       'calculated_host_listings_count',\n",
       "       'calculated_host_listings_count_entire_homes',\n",
       "       'calculated_host_listings_count_private_rooms',\n",
       "       'calculated_host_listings_count_shared_rooms', 'reviews_per_month'],\n",
       "      dtype='object')"
      ]
     },
     "execution_count": 150,
     "metadata": {},
     "output_type": "execute_result"
    }
   ],
   "source": [
    "df.keys()"
   ]
  },
  {
   "attachments": {},
   "cell_type": "markdown",
   "metadata": {},
   "source": [
    "Some of the 73 variables may not be useful. \n",
    "\n",
    "1. Variables that cannot be changed:\n",
    "\n",
    "    'id', 'listing_url', 'scrape_id', 'last_scraped', 'source', 'name'\n",
    "\n",
    "2. Variables that are not relevant because the listings have not yet been introduced into the market:\n",
    "\n",
    "    'host_id', 'host_url', 'host_name', 'host_since', 'host_location', 'host_about', 'host_response_time', 'host_response_rate', 'host_acceptance_rate', 'host_is_superhost', 'host_thumbnail_url', 'host_picture_url','host_neighbourhood', 'host_listings_count', 'host_total_listings_count','host_verifications','host_has_profile_pic', 'host_identity_verified', 'calendar_updated', 'has_availability', 'availability_30', 'availability_60', 'availability_90', 'availability_365', 'calendar_last_scraped', 'number_of_reviews', 'number_of_reviews_ltm', 'number_of_reviews_l30d', 'first_review', 'last_review', 'review_scores_rating', 'review_scores_accuracy','review_scores_cleanliness', 'review_scores_checkin','review_scores_communication', 'review_scores_location','review_scores_value'"
   ]
  },
  {
   "cell_type": "code",
   "execution_count": 151,
   "metadata": {},
   "outputs": [
    {
     "data": {
      "text/plain": [
       "(11056, 75)"
      ]
     },
     "execution_count": 151,
     "metadata": {},
     "output_type": "execute_result"
    }
   ],
   "source": [
    "df.shape"
   ]
  },
  {
   "cell_type": "code",
   "execution_count": 152,
   "metadata": {},
   "outputs": [],
   "source": [
    "df.drop(\n",
    "    ['id', 'listing_url', 'scrape_id', 'last_scraped', 'source', 'name','host_id', 'host_url', 'host_name', 'host_since', 'host_location', 'host_about', 'host_response_time', 'host_response_rate', 'host_acceptance_rate', 'host_is_superhost', 'host_thumbnail_url', 'host_picture_url','host_neighbourhood', 'host_listings_count', 'host_total_listings_count','host_verifications','host_has_profile_pic', 'host_identity_verified', 'calendar_updated', 'has_availability', 'availability_30', 'availability_60', 'availability_90', 'availability_365', 'calendar_last_scraped', 'number_of_reviews', 'number_of_reviews_ltm', 'number_of_reviews_l30d', 'first_review', 'last_review', 'review_scores_rating', 'review_scores_accuracy','review_scores_cleanliness', 'review_scores_checkin','review_scores_communication', 'review_scores_location','review_scores_value'],\n",
    "    inplace=True,\n",
    "    axis=1\n",
    ")"
   ]
  },
  {
   "attachments": {},
   "cell_type": "markdown",
   "metadata": {},
   "source": [
    "### EDA and sample definition and preparation"
   ]
  },
  {
   "attachments": {},
   "cell_type": "markdown",
   "metadata": {},
   "source": [
    "#### Cleaning, cutting, zooming in"
   ]
  },
  {
   "attachments": {},
   "cell_type": "markdown",
   "metadata": {},
   "source": [
    "We are only interested in apartments.\n",
    "1. Check if property types are all indicated \n",
    "2. keep only apartments"
   ]
  },
  {
   "cell_type": "code",
   "execution_count": 153,
   "metadata": {},
   "outputs": [
    {
     "name": "stdout",
     "output_type": "stream",
     "text": [
      "0 property types are missing.\n"
     ]
    }
   ],
   "source": [
    "print(df[\"property_type\"].isnull().sum(), \"property types are missing.\")"
   ]
  },
  {
   "attachments": {},
   "cell_type": "markdown",
   "metadata": {},
   "source": [
    "Property types do not seem to be well-defined. I will find the apartment listings by finding the `partment` in descriptions and then select the property types that say either \"Entire\" or \"Home\" but not \"room\"."
   ]
  },
  {
   "cell_type": "code",
   "execution_count": 154,
   "metadata": {},
   "outputs": [
    {
     "name": "stdout",
     "output_type": "stream",
     "text": [
      "Entire rental unit                    4843\n",
      "Entire condo                          1419\n",
      "Private room in rental unit            192\n",
      "Entire serviced apartment              175\n",
      "Entire loft                             93\n",
      "Entire home                             89\n",
      "Room in aparthotel                      83\n",
      "Private room in condo                   63\n",
      "Room in serviced apartment              38\n",
      "Private room in serviced apartment      26\n",
      "Room in boutique hotel                  12\n",
      "Entire vacation home                    11\n",
      "Private room in guest suite             11\n",
      "Shared room in rental unit              10\n",
      "Entire guest suite                       9\n",
      "Room in hotel                            8\n",
      "Entire townhouse                         5\n",
      "Tiny home                                4\n",
      "Private room in bed and breakfast        3\n",
      "Private room in vacation home            2\n",
      "Entire villa                             2\n",
      "Entire place                             2\n",
      "Private room in hostel                   2\n",
      "Private room in home                     2\n",
      "Shared room in hostel                    1\n",
      "Earthen home                             1\n",
      "Cycladic home                            1\n",
      "Shared room in condo                     1\n",
      "Private room in resort                   1\n",
      "Name: property_type, dtype: int64\n"
     ]
    }
   ],
   "source": [
    "print(df[df['description'].str.contains('partment',na=False)].property_type.value_counts())\n",
    "df = df[df['description'].str.contains('partment',na=False)]"
   ]
  },
  {
   "cell_type": "code",
   "execution_count": 155,
   "metadata": {},
   "outputs": [],
   "source": [
    "# keeping only the apartments\n",
    "df = df[df.property_type.apply(lambda x: (\"Entire\" in x or 'ome' in x) and 'room' not in x).to_list()]\n",
    "# What is left in the end? \n",
    "df.property_type.value_counts()\n",
    "# Still way too many categories. Focus on the 4 biggest, and give a sensible name to each. \n",
    "df = df[df['property_type'].apply(lambda x: x in (\"Entire rental unit Entire condo Entire serviced apartment Entire loft\"))]\n",
    "\n",
    "def replace_all(text, dic):\n",
    "    for i, j in dic.items():\n",
    "        text = text.replace(i, j)\n",
    "    return text\n",
    "d = { \"Entire rental unit\": \"Apartment\", \"Entire condo\": \"Condo\", \"Entire serviced apartment\": \"Serviced apartment\",\"Entire loft\" : \"Loft\"}\n",
    "\n",
    "df['property_type'] = replace_all(df[\"property_type\"], d)\n"
   ]
  },
  {
   "cell_type": "code",
   "execution_count": 156,
   "metadata": {},
   "outputs": [
    {
     "data": {
      "text/plain": [
       "Apartment             4843\n",
       "Condo                 1419\n",
       "Serviced apartment     175\n",
       "Loft                    93\n",
       "Name: property_type, dtype: int64"
      ]
     },
     "execution_count": 156,
     "metadata": {},
     "output_type": "execute_result"
    }
   ],
   "source": [
    "df['property_type'].value_counts()"
   ]
  },
  {
   "attachments": {},
   "cell_type": "markdown",
   "metadata": {},
   "source": [
    "Now, we need to limit our data to apartments which accomodate 2-6 people. "
   ]
  },
  {
   "cell_type": "code",
   "execution_count": 157,
   "metadata": {},
   "outputs": [],
   "source": [
    "df = df[df['accommodates'].between(2,6)]"
   ]
  },
  {
   "attachments": {},
   "cell_type": "markdown",
   "metadata": {},
   "source": [
    "#### Missing values"
   ]
  },
  {
   "cell_type": "code",
   "execution_count": 158,
   "metadata": {},
   "outputs": [
    {
     "name": "stdout",
     "output_type": "stream",
     "text": [
      "There are 17229 missing values in total\n"
     ]
    },
    {
     "data": {
      "image/png": "[encoded data removed]",
      "text/plain": [
       "<Figure size 720x720 with 1 Axes>"
      ]
     },
     "metadata": {
      "needs_background": "light"
     },
     "output_type": "display_data"
    }
   ],
   "source": [
    "# Check for missing values frequency\n",
    "fig, ax = plt.subplots(figsize=(10,10))         # Sample figsize in inches\n",
    "sns.heatmap(df.isnull().T, xticklabels=False, cbar=False, cmap='BuPu_r', ax=ax)\n",
    "print('There are', df.isna().sum().sum(), 'missing values in total')"
   ]
  },
  {
   "cell_type": "code",
   "execution_count": 159,
   "metadata": {},
   "outputs": [
    {
     "data": {
      "image/png": "[encoded data removed]",
      "text/plain": [
       "<Figure size 720x720 with 1 Axes>"
      ]
     },
     "metadata": {
      "needs_background": "light"
     },
     "output_type": "display_data"
    }
   ],
   "source": [
    "# focus on features with missing values\n",
    "na_share = df.isnull().mean()*100\n",
    "fig, ax = plt.subplots(figsize=(10,10))    \n",
    "na_share[na_share>0].sort_values(ascending=True).plot.barh(title = 'Share of the missing values >0')\n",
    "plt.tight_layout()"
   ]
  },
  {
   "cell_type": "code",
   "execution_count": 160,
   "metadata": {},
   "outputs": [
    {
     "data": {
      "text/plain": [
       "neighbourhood_group_cleansed    100.000000\n",
       "bathrooms                       100.000000\n",
       "neighborhood_overview            30.378289\n",
       "neighbourhood                    30.378289\n",
       "reviews_per_month                10.065789\n",
       "bedrooms                          7.138158\n",
       "license                           4.753289\n",
       "beds                              0.657895\n",
       "dtype: float64"
      ]
     },
     "execution_count": 160,
     "metadata": {},
     "output_type": "execute_result"
    }
   ],
   "source": [
    "na_share[na_share>0].sort_values(ascending=False)"
   ]
  },
  {
   "cell_type": "code",
   "execution_count": null,
   "metadata": {},
   "outputs": [],
   "source": []
  },
  {
   "cell_type": "markdown",
   "metadata": {},
   "source": [
    "#### omg"
   ]
  },
  {
   "cell_type": "markdown",
   "metadata": {},
   "source": []
  }
 ],
 "metadata": {
  "kernelspec": {
   "display_name": "base",
   "language": "python",
   "name": "python3"
  },
  "language_info": {
   "codemirror_mode": {
    "name": "ipython",
    "version": 3
   },
   "file_extension": ".py",
   "mimetype": "text/x-python",
   "name": "python",
   "nbconvert_exporter": "python",
   "pygments_lexer": "ipython3",
   "version": "3.8.8"
  },
  "orig_nbformat": 4,
  "vscode": {
   "interpreter": {
    "hash": "40d3a090f54c6569ab1632332b64b2c03c39dcf918b08424e98f38b5ae0af88f"
   }
  }
 },
 "nbformat": 4,
 "nbformat_minor": 2
}
