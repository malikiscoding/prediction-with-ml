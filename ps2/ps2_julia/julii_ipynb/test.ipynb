{
 "cells": [
  {
   "attachments": {},
   "cell_type": "markdown",
   "metadata": {},
   "source": [
    "Julia version"
   ]
  },
  {
   "cell_type": "code",
   "execution_count": 3,
   "metadata": {},
   "outputs": [
    {
     "name": "stderr",
     "output_type": "stream",
     "text": [
      "\u001b[32m\u001b[1m  Activating\u001b[22m\u001b[39m environment at `~/Desktop/school/Winter_23/ECBS6067/prediction-with-ml/ps2/ps2_julia/julii_ipynb/Project.toml`\n"
     ]
    }
   ],
   "source": [
    "begin\n",
    "    import Pkg\n",
    "    # activate the shared project environment\n",
    "    Pkg.activate(\".\")\n",
    "    # instantiate, i.e. make sure that all packages are downloaded\n",
    "    Pkg.instantiate()\n",
    "end"
   ]
  },
  {
   "cell_type": "code",
   "execution_count": 4,
   "metadata": {},
   "outputs": [
    {
     "name": "stderr",
     "output_type": "stream",
     "text": [
      "\u001b[32m\u001b[1m    Updating\u001b[22m\u001b[39m registry at `~/.julia/registries/General`\n"
     ]
    },
    {
     "name": "stderr",
     "output_type": "stream",
     "text": [
      "\u001b[32m\u001b[1m   Resolving\u001b[22m\u001b[39m package versions...\n"
     ]
    },
    {
     "name": "stderr",
     "output_type": "stream",
     "text": [
      "\u001b[32m\u001b[1m  No Changes\u001b[22m\u001b[39m to `~/Desktop/school/Winter_23/ECBS6067/prediction-with-ml/ps2/ps2_julia/julii_ipynb/Project.toml`\n",
      "\u001b[32m\u001b[1m  No Changes\u001b[22m\u001b[39m to `~/Desktop/school/Winter_23/ECBS6067/prediction-with-ml/ps2/ps2_julia/julii_ipynb/Manifest.toml`\n"
     ]
    },
    {
     "name": "stderr",
     "output_type": "stream",
     "text": [
      "\u001b[32m\u001b[1m   Resolving\u001b[22m\u001b[39m package versions...\n"
     ]
    },
    {
     "name": "stderr",
     "output_type": "stream",
     "text": [
      "\u001b[32m\u001b[1m  No Changes\u001b[22m\u001b[39m to `~/Desktop/school/Winter_23/ECBS6067/prediction-with-ml/ps2/ps2_julia/julii_ipynb/Project.toml`\n",
      "\u001b[32m\u001b[1m  No Changes\u001b[22m\u001b[39m to `~/Desktop/school/Winter_23/ECBS6067/prediction-with-ml/ps2/ps2_julia/julii_ipynb/Manifest.toml`\n"
     ]
    }
   ],
   "source": [
    "begin\n",
    "    Pkg.add(\"MLJ\")\n",
    "    Pkg.add(\"RDatasets\")\n",
    "end"
   ]
  },
  {
   "cell_type": "code",
   "execution_count": 1,
   "metadata": {},
   "outputs": [
    {
     "ename": "UndefVarError",
     "evalue": "UndefVarError: KNNClassifier not defined",
     "output_type": "error",
     "traceback": [
      "UndefVarError: KNNClassifier not defined\n",
      "\n",
      "Stacktrace:\n",
      " [1] top-level scope\n",
      "   @ ~/Desktop/school/Winter_23/ECBS6067/prediction-with-ml/ps2/ps2_julia/julii_ipynb/test.ipynb:7"
     ]
    }
   ],
   "source": [
    "using MLJ\n",
    "using RDatasets\n",
    "\n",
    "# Load the iris dataset iris = dataset(\"datasets\", \"iris\")\n",
    "\n",
    "# Create a model using k-nearest neighbors\n",
    "model = KNNClassifier(K=3)\n",
    "\n",
    "# Split the data into training and testing sets\n",
    "(train, test) = partition(eachindex(iris[:, :Species]), 0.7, shuffle=true)\n",
    "\n",
    "# Fit the model to the training data\n",
    "fit!(model, iris[train, 1:4], iris[train, :Species])\n",
    "\n",
    "# Make predictions on the testing data\n",
    "y_pred = predict(model, iris[test, 1:4])\n",
    "\n",
    "# Print the accuracy of the model\n",
    "acc = accuracy(y_pred, iris[test, :Species])\n",
    "println(\"Accuracy: \", acc)"
   ]
  },
  {
   "cell_type": "markdown",
   "metadata": {},
   "source": []
  }
 ],
 "metadata": {
  "kernelspec": {
   "display_name": "Julia 1.6.7",
   "language": "julia",
   "name": "julia-1.6"
  },
  "language_info": {
   "file_extension": ".jl",
   "mimetype": "application/julia",
   "name": "julia",
   "version": "1.6.7"
  },
  "orig_nbformat": 4,
  "vscode": {
   "interpreter": {
    "hash": "40d3a090f54c6569ab1632332b64b2c03c39dcf918b08424e98f38b5ae0af88f"
   }
  }
 },
 "nbformat": 4,
 "nbformat_minor": 2
}
