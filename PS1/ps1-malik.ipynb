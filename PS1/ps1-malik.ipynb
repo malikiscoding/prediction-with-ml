{
 "cells": [
  {
   "attachments": {},
   "cell_type": "markdown",
   "metadata": {},
   "source": [
    "# Problem set 1\n",
    "## Malik (Mukhamejan Assan)\n",
    "### 19 January, 2023"
   ]
  }
 ],
 "metadata": {
  "language_info": {
   "name": "python"
  },
  "orig_nbformat": 4
 },
 "nbformat": 4,
 "nbformat_minor": 2
}
